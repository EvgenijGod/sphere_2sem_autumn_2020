{
 "cells": [
  {
   "cell_type": "markdown",
   "metadata": {
    "id": "bn27NI7zaf9Z"
   },
   "source": [
    "## Семинар 5: \"Улучшение сходимости нейросетей\""
   ]
  },
  {
   "cell_type": "markdown",
   "metadata": {
    "id": "kY9vse7waf9b"
   },
   "source": [
    "ФИО: Косарев Е.А."
   ]
  },
  {
   "cell_type": "code",
   "execution_count": 1,
   "metadata": {
    "executionInfo": {
     "elapsed": 1357,
     "status": "ok",
     "timestamp": 1602204244049,
     "user": {
      "displayName": "Данила Байгушев",
      "photoUrl": "",
      "userId": "06862651594233453127"
     },
     "user_tz": -180
    },
    "id": "JdEAkdunaf9d"
   },
   "outputs": [],
   "source": [
    "import numpy as np\n",
    "from sklearn.model_selection import train_test_split\n",
    "import matplotlib.pyplot as plt\n",
    "import torch\n",
    "from torch import nn\n",
    "import torch.nn.functional as F\n",
    "from torch.autograd import Variable\n",
    "from torch.utils.data import DataLoader\n",
    "from torchvision.datasets import MNIST\n",
    "from torchvision import transforms\n",
    "%matplotlib inline"
   ]
  },
  {
   "cell_type": "markdown",
   "metadata": {
    "id": "iIgr4r2Haf9l"
   },
   "source": [
    "На этом семинаре мы попробуем улучшить результаты, полученные на предыдущем занятии\n",
    "Для этого нам понадобятся следующие вещи:\n",
    "* Dropout\n",
    "* Batch Normalization\n",
    "* Инициализация весов"
   ]
  },
  {
   "cell_type": "markdown",
   "metadata": {
    "id": "CZHtxmbUaf9m"
   },
   "source": [
    "### Часть 1: Инициализация весов"
   ]
  },
  {
   "cell_type": "markdown",
   "metadata": {
    "id": "W8dhNr-faf9n"
   },
   "source": [
    "На лекции доказывалось, что при инициализации He и Glorot дисперсия активаций градиентов в каждом слое будут примерно равны. Давайте проверим это. "
   ]
  },
  {
   "cell_type": "code",
   "execution_count": 2,
   "metadata": {
    "executionInfo": {
     "elapsed": 638,
     "status": "ok",
     "timestamp": 1602204245453,
     "user": {
      "displayName": "Данила Байгушев",
      "photoUrl": "",
      "userId": "06862651594233453127"
     },
     "user_tz": -180
    },
    "id": "216zZRJAaf9o"
   },
   "outputs": [],
   "source": [
    "# Dataloader\n",
    "to_numpy = lambda x: x.numpy()\n",
    "transform = transforms.Compose([\n",
    "                       transforms.ToTensor(),\n",
    "                       transforms.Normalize((0.1307,), (0.3081,))\n",
    "                    ])\n",
    "train_dataset = MNIST('.', train=True, download=True, transform=transform)\n",
    "test_dataset = MNIST('.', train=False, transform=transform)\n",
    "\n",
    "train_loader = DataLoader(train_dataset, batch_size=128, shuffle=True)\n",
    "test_loader = DataLoader(test_dataset, batch_size=128, shuffle=True)"
   ]
  },
  {
   "cell_type": "code",
   "execution_count": 3,
   "metadata": {
    "executionInfo": {
     "elapsed": 1044,
     "status": "ok",
     "timestamp": 1602204248730,
     "user": {
      "displayName": "Данила Байгушев",
      "photoUrl": "",
      "userId": "06862651594233453127"
     },
     "user_tz": -180
    },
    "id": "EqpqV_pVaf9t"
   },
   "outputs": [],
   "source": [
    "images_train, labels_train = next(iter(train_loader))"
   ]
  },
  {
   "cell_type": "code",
   "execution_count": 4,
   "metadata": {
    "executionInfo": {
     "elapsed": 8672,
     "status": "ok",
     "timestamp": 1602204258260,
     "user": {
      "displayName": "Данила Байгушев",
      "photoUrl": "",
      "userId": "06862651594233453127"
     },
     "user_tz": -180
    },
    "id": "agAN6Tyfaf9x"
   },
   "outputs": [],
   "source": [
    "## Usage example:\n",
    "for X, y in train_loader:\n",
    "    X = X.view(X.size(0), -1)\n",
    "    X = X.numpy() ### Converts torch.Tensor to numpy array\n",
    "    y = y.numpy()\n",
    "    pass"
   ]
  },
  {
   "cell_type": "code",
   "execution_count": 5,
   "metadata": {
    "colab": {
     "base_uri": "https://localhost:8080/",
     "height": 420
    },
    "executionInfo": {
     "elapsed": 8767,
     "status": "ok",
     "timestamp": 1602204259023,
     "user": {
      "displayName": "Данила Байгушев",
      "photoUrl": "",
      "userId": "06862651594233453127"
     },
     "user_tz": -180
    },
    "id": "71k9eU4Caf91",
    "outputId": "d056f30d-d7cf-4128-8736-5a83d5511445"
   },
   "outputs": [
    {
     "data": {
      "image/png": "[encoded data removed]",
      "text/plain": [
       "<Figure size 432x504 with 25 Axes>"
      ]
     },
     "metadata": {
      "needs_background": "light"
     },
     "output_type": "display_data"
    }
   ],
   "source": [
    "plt.figure(figsize=(6, 7))\n",
    "for i in range(25):\n",
    "    plt.subplot(5, 5, i+1)\n",
    "    plt.imshow(X[i].reshape(28, 28), cmap=plt.cm.Greys_r)\n",
    "    plt.title(y[i])\n",
    "    plt.axis('off')"
   ]
  },
  {
   "cell_type": "markdown",
   "metadata": {
    "id": "CjxGvxs8af98"
   },
   "source": [
    "<i> 1.1 </i> Инициализируйте полносвязную сеть нормальным шумом N(0, 0.1) с архитектурой 784 -> 500 x (10 раз) -> 10. В качестве активации возьмите tanh"
   ]
  },
  {
   "cell_type": "code",
   "execution_count": 6,
   "metadata": {
    "executionInfo": {
     "elapsed": 6511,
     "status": "ok",
     "timestamp": 1602204259025,
     "user": {
      "displayName": "Данила Байгушев",
      "photoUrl": "",
      "userId": "06862651594233453127"
     },
     "user_tz": -180
    },
    "id": "DgCP_qclaf99"
   },
   "outputs": [],
   "source": [
    "def init_layer(layer, mean=0, std=1):\n",
    "    # Тут надо быть аккуратным — можно случайно создать копию и менять значения у копии\n",
    "    weight = layer.state_dict()['weight']\n",
    "    bias = layer.state_dict()['bias']\n",
    "    bias.zero_()\n",
    "    #1 - веса сети\n",
    "    #2 - нули ...\n",
    "    #bias = torch.zeros_like(bias)\n",
    "    weight.normal_(mean=0, std=0.1)\n",
    "\n",
    "def forward_hook(self, input_, output):\n",
    "    std = input_[0].std().item()\n",
    "    print('forward', std)\n",
    "\n",
    "def backward_hook(self, grad_input, grad_output):\n",
    "    std = grad_input[0].std().item()\n",
    "    print('backward', std)\n",
    "\n",
    "    \n",
    "# пример:\n",
    "layer = nn.Linear(28*28, 10)\n",
    "layer.register_forward_hook(forward_hook)\n",
    "layer.register_backward_hook(backward_hook)\n",
    "init_layer(layer, 0.0, 0.1) # сюда надо подставить другие параметры"
   ]
  },
  {
   "cell_type": "code",
   "execution_count": 7,
   "metadata": {
    "colab": {
     "base_uri": "https://localhost:8080/",
     "height": 35
    },
    "executionInfo": {
     "elapsed": 5647,
     "status": "ok",
     "timestamp": 1602204259027,
     "user": {
      "displayName": "Данила Байгушев",
      "photoUrl": "",
      "userId": "06862651594233453127"
     },
     "user_tz": -180
    },
    "id": "roslMRZRaf-C",
    "outputId": "868e8bb3-e2bb-4ebc-da96-31021f57beb1"
   },
   "outputs": [],
   "source": [
    "#sizes = [28*28, 64, 32] + [16] * 30 + [10]\n",
    "layers = []\n",
    "\n",
    "def normal(size_input, size_output):\n",
    "    return 0.1\n",
    "    #return 1\n",
    "\n",
    "def xavier(size_input, size_output):\n",
    "    d = 2 / (size_input + size_output)\n",
    "    return np.sqrt(d)\n",
    "\n",
    "def good_grad(size_input, size_output):\n",
    "    d = 1 / size_output\n",
    "    return np.sqrt(d)\n",
    "\n",
    "#init_func = normal\n",
    "init_func = normal\n",
    "#init_func = good_grad"
   ]
  },
  {
   "cell_type": "code",
   "execution_count": 8,
   "metadata": {},
   "outputs": [],
   "source": [
    "def make_layers(init_layer):\n",
    "    layers = []\n",
    "    sizes = [28*28] + [500] * 10 + [10]\n",
    "\n",
    "    for size_input, size_output in zip(sizes, sizes[1:]):\n",
    "    \n",
    "        layer = nn.Linear(size_input, size_output)\n",
    "        layer.register_forward_hook(forward_hook)\n",
    "        layer.register_backward_hook(backward_hook)\n",
    "        init_layer(layer, size_input, size_output) # сюда надо подставить другие параметры\n",
    "\n",
    "        layers.append(layer)\n",
    "        layers.append(nn.Tanh())\n",
    "    \n",
    "    print(len(layers))\n",
    "    del layers[-1]\n",
    "    return layers"
   ]
  },
  {
   "cell_type": "markdown",
   "metadata": {
    "id": "SsjtA7N_af-G"
   },
   "source": [
    "<i>1.2 Пропустите батч изображений через нейронную сеть и вычислите дисперсию активаций. Затем вычислите градиент и получите дисперсию градиентов. Сравните эти значения между собой для разных слоев.</i>"
   ]
  },
  {
   "cell_type": "code",
   "execution_count": 9,
   "metadata": {
    "colab": {
     "base_uri": "https://localhost:8080/",
     "height": 1000
    },
    "executionInfo": {
     "elapsed": 3872,
     "status": "ok",
     "timestamp": 1602204259406,
     "user": {
      "displayName": "Данила Байгушев",
      "photoUrl": "",
      "userId": "06862651594233453127"
     },
     "user_tz": -180
    },
    "id": "7Ri1Tvuyaf-K",
    "outputId": "e668298a-0f3e-4dbb-bbe5-84ab7346b44d",
    "scrolled": true
   },
   "outputs": [
    {
     "name": "stdout",
     "output_type": "stream",
     "text": [
      "22\n",
      "forward 1.0270507335662842\n",
      "forward 0.8514829277992249\n",
      "forward 0.7893153429031372\n",
      "forward 0.7695194482803345\n",
      "forward 0.7631908059120178\n",
      "forward 0.7658132314682007\n",
      "forward 0.7634537816047668\n",
      "forward 0.7656294107437134\n",
      "forward 0.766764760017395\n",
      "forward 0.7645149230957031\n",
      "forward 0.7642693519592285\n",
      "backward 0.024037007242441177\n",
      "backward 0.01445783395320177\n",
      "backward 0.014064254239201546\n",
      "backward 0.013373875990509987\n",
      "backward 0.01360228005796671\n",
      "backward 0.01434233132749796\n",
      "backward 0.016087912023067474\n",
      "backward 0.019060833379626274\n",
      "backward 0.021978862583637238\n",
      "backward 0.024977298453450203\n",
      "backward 0.024003010243177414\n"
     ]
    },
    {
     "name": "stderr",
     "output_type": "stream",
     "text": [
      "/home/evgenij_kosarev/miniconda3/lib/python3.7/site-packages/torch/autograd/__init__.py:132: UserWarning: CUDA initialization: The NVIDIA driver on your system is too old (found version 9010). Please update your GPU driver by downloading and installing a new version from the URL: http://www.nvidia.com/Download/index.aspx Alternatively, go to: https://pytorch.org to install a PyTorch version that has been compiled with your version of the CUDA driver. (Triggered internally at  /opt/conda/conda-bld/pytorch_1603729047590/work/c10/cuda/CUDAFunctions.cpp:100.)\n",
      "  allow_unreachable=True)  # allow_unreachable flag\n"
     ]
    }
   ],
   "source": [
    "\n",
    "\n",
    "network = nn.Sequential(*make_layers(init_layer))\n",
    "\n",
    "#пример:\n",
    "n_objects = 100\n",
    "X = images_train[:n_objects].view(n_objects, -1).data\n",
    "y = labels_train[:n_objects].data\n",
    "activations = network(X)\n",
    "loss_fn = torch.nn.NLLLoss()\n",
    "optimizer = torch.optim.Adam(network.parameters(), lr=0.001) \n",
    "loss = loss_fn(activations, y)\n",
    "loss.backward()"
   ]
  },
  {
   "cell_type": "markdown",
   "metadata": {
    "id": "aUJG1Dbqaf-R"
   },
   "source": [
    "<i>1.3 Повторите эксперимент для инициализаций He и Xavier (формулы есть в лекции).</i>"
   ]
  },
  {
   "cell_type": "code",
   "execution_count": 10,
   "metadata": {
    "id": "FyD1lPKwaf-T"
   },
   "outputs": [],
   "source": [
    "def init_layer_xavier(layer, prev_s, next_s):\n",
    "    weight = layer.state_dict()['weight']\n",
    "    bias = layer.state_dict()['bias']\n",
    "    bias.zero_()\n",
    "    weight.uniform_(-np.sqrt(6 / (prev_s + next_s)), np.sqrt(6 / (prev_s + next_s)))\n",
    "    \n",
    "def init_layer_he(layer, prev_s, next_s):\n",
    "    weight = layer.state_dict()['weight']\n",
    "    bias = layer.state_dict()['bias']\n",
    "    bias.zero_()\n",
    "    weight.normal_(0, 2 / next_s)"
   ]
  },
  {
   "cell_type": "code",
   "execution_count": 11,
   "metadata": {},
   "outputs": [
    {
     "name": "stdout",
     "output_type": "stream",
     "text": [
      "22\n",
      "forward 1.0270507335662842\n",
      "forward 0.11532987654209137\n",
      "forward 0.010397390462458134\n",
      "forward 0.0009441087022423744\n",
      "forward 8.271559636341408e-05\n",
      "forward 7.4487529673206154e-06\n",
      "forward 6.670769039374136e-07\n",
      "forward 5.938080249734412e-08\n",
      "forward 5.309090944649597e-09\n",
      "forward 4.747845450125965e-10\n",
      "forward 4.2372008679514295e-11\n",
      "backward 0.024037007242441177\n",
      "backward 0.06669554114341736\n",
      "backward 0.006040665786713362\n",
      "backward 0.0005407780990935862\n",
      "backward 4.808963058167137e-05\n",
      "backward 4.507954145083204e-06\n",
      "backward 4.09027052228339e-07\n",
      "backward 3.583578944699184e-08\n",
      "backward 3.1644864506574777e-09\n",
      "backward 2.7321137019420405e-10\n",
      "backward 2.295525922124675e-11\n"
     ]
    }
   ],
   "source": [
    "network = nn.Sequential(*make_layers(init_layer_he))\n",
    "\n",
    "#пример:\n",
    "n_objects = 100\n",
    "X = images_train[:n_objects].view(n_objects, -1).data\n",
    "y = labels_train[:n_objects].data\n",
    "activations = network(X)\n",
    "loss_fn = torch.nn.NLLLoss()\n",
    "optimizer = torch.optim.Adam(network.parameters(), lr=0.001) \n",
    "loss = loss_fn(activations, y)\n",
    "loss.backward()"
   ]
  },
  {
   "cell_type": "code",
   "execution_count": 12,
   "metadata": {},
   "outputs": [
    {
     "name": "stdout",
     "output_type": "stream",
     "text": [
      "22\n",
      "forward 1.0270507335662842\n",
      "forward 0.6573994159698486\n",
      "forward 0.5019680857658386\n",
      "forward 0.41571173071861267\n",
      "forward 0.355618417263031\n",
      "forward 0.32235029339790344\n",
      "forward 0.2947220206260681\n",
      "forward 0.27194270491600037\n",
      "forward 0.2546132504940033\n",
      "forward 0.23766961693763733\n",
      "forward 0.22661331295967102\n",
      "backward 0.024037007242441177\n",
      "backward 0.01934729516506195\n",
      "backward 0.01872195303440094\n",
      "backward 0.016936281695961952\n",
      "backward 0.01547984965145588\n",
      "backward 0.014047504402697086\n",
      "backward 0.012591942213475704\n",
      "backward 0.011560805141925812\n",
      "backward 0.009694505482912064\n",
      "backward 0.007334018126130104\n",
      "backward 0.0044914972968399525\n"
     ]
    }
   ],
   "source": [
    "network = nn.Sequential(*make_layers(init_layer_xavier))\n",
    "\n",
    "#пример:\n",
    "n_objects = 100\n",
    "X = images_train[:n_objects].view(n_objects, -1).data\n",
    "y = labels_train[:n_objects].data\n",
    "activations = network(X)\n",
    "loss_fn = torch.nn.NLLLoss()\n",
    "optimizer = torch.optim.Adam(network.parameters(), lr=0.001) \n",
    "loss = loss_fn(activations, y)\n",
    "loss.backward()"
   ]
  },
  {
   "cell_type": "markdown",
   "metadata": {
    "id": "7U2YSSw5af-Y"
   },
   "source": [
    "<i> 1.4 Сделайте выводы по первой части </i>"
   ]
  },
  {
   "cell_type": "raw",
   "metadata": {},
   "source": [
    "He лучше подходит для гиперболического тангенса."
   ]
  },
  {
   "cell_type": "markdown",
   "metadata": {
    "id": "NBQ7o-hjaf-a"
   },
   "source": []
  },
  {
   "cell_type": "markdown",
   "metadata": {
    "id": "4kYx-hwLaf-b"
   },
   "source": [
    "### Часть 2: Dropout"
   ]
  },
  {
   "cell_type": "markdown",
   "metadata": {
    "id": "mDoy5_yEaf-c"
   },
   "source": [
    "Другим полезным слоем является Dropout. В нем с вероятностью 1-p зануляется выход каждого нейрона. Этот слой уже реализован в pyTorch, поэтому вновь реализовывать его не интересно. Давайте реализуем DropConnect — аналог Dropout. В нем с вероятностью 1-p зануляется каждый вес слоя."
   ]
  },
  {
   "cell_type": "markdown",
   "metadata": {
    "id": "hxi77m72af-d"
   },
   "source": [
    "<i> 2.1 Реализуйте линейный слой с DropConnect </i>"
   ]
  },
  {
   "cell_type": "code",
   "execution_count": 13,
   "metadata": {
    "executionInfo": {
     "elapsed": 903,
     "status": "ok",
     "timestamp": 1602204261440,
     "user": {
      "displayName": "Данила Байгушев",
      "photoUrl": "",
      "userId": "06862651594233453127"
     },
     "user_tz": -180
    },
    "id": "Ee2ljeNCaf-f"
   },
   "outputs": [],
   "source": [
    "# полезная функция: .bernoulli_(p)\n",
    "# не забывайте делать requires_grad=False у маски\n",
    "# помните, что в вычислениях должны участвовать Variable, а не тензоры\n",
    "\n",
    "class DropConnect(nn.Module):\n",
    "    def __init__(self, input_dim, output_dim, p=0.5):\n",
    "        super(DropConnect, self).__init__()\n",
    "        self.linear = nn.Linear(input_dim, output_dim)\n",
    "        self.p = p\n",
    "\n",
    "    def forward(self, x):    \n",
    "        mask = torch.zeros_like(self.linear.weight) + self.p\n",
    "        if self.training:          \n",
    "            mask.bernoulli_()\n",
    "\n",
    "        mask = mask.data\n",
    "        output = F.linear(x, self.linear.weight * mask, self.linear.bias)\n",
    "        return output"
   ]
  },
  {
   "cell_type": "markdown",
   "metadata": {
    "id": "CCv4jdyoaf-k"
   },
   "source": [
    "<i> \n",
    "2.2 Сравните графики обучения нейроных сетей:\n",
    "1. Свертки из TestNetwork -> 128 -> 128 -> 10 с ReLU и Dropout между всеми слоями \n",
    "2. Свертки из TestNetwork -> 128 -> 128 -> 10 с ReLU DropConnect вместо всех линейных слоев\n",
    "</i>"
   ]
  },
  {
   "cell_type": "code",
   "execution_count": 14,
   "metadata": {
    "executionInfo": {
     "elapsed": 1160,
     "status": "ok",
     "timestamp": 1602204263658,
     "user": {
      "displayName": "Данила Байгушев",
      "photoUrl": "",
      "userId": "06862651594233453127"
     },
     "user_tz": -180
    },
    "id": "uC3EYVlraf-m"
   },
   "outputs": [],
   "source": [
    "class TestNetwork(nn.Module):\n",
    "    def __init__(self, final_part):\n",
    "        super().__init__()    \n",
    "        \n",
    "        channels = 1\n",
    "        \n",
    "        self.conv_layers = nn.Sequential(\n",
    "            nn.Conv2d(channels, 2, 3, padding=1),    \n",
    "            nn.MaxPool2d(2),\n",
    "            nn.ReLU(),\n",
    "            nn.Conv2d(2, 4, 3, padding=1),            \n",
    "            nn.MaxPool2d(2),\n",
    "            nn.ReLU(),\n",
    "        )\n",
    "        \n",
    "        #input_size = 7 * 7 * 4 = 196\n",
    "        self.flatten = nn.Flatten()\n",
    "        \n",
    "        self.final_part = final_part\n",
    "        \n",
    "        self.log_softmax = nn.LogSoftmax(1)        \n",
    "        \n",
    "    def forward(self, x):\n",
    "        x = self.conv_layers(x)\n",
    "        x = self.flatten(x)\n",
    "        x = self.final_part(x)\n",
    "        return self.log_softmax(x)"
   ]
  },
  {
   "cell_type": "code",
   "execution_count": 28,
   "metadata": {},
   "outputs": [],
   "source": [
    "sizes = [196, 128, 128, 10]\n",
    "layers = []\n",
    "for size_input, size_output in zip(sizes, sizes[1:]):\n",
    "    layers.append(nn.Linear(size_input, size_output))\n",
    "    if size_output != 10:\n",
    "        layers.append(nn.ReLU())\n",
    "        layers.append(nn.Dropout(0.03))   \n",
    "        \n",
    "#del layers[-1]"
   ]
  },
  {
   "cell_type": "code",
   "execution_count": 30,
   "metadata": {},
   "outputs": [
    {
     "data": {
      "text/plain": [
       "[Linear(in_features=196, out_features=128, bias=True),\n",
       " ReLU(),\n",
       " Dropout(p=0.03, inplace=False),\n",
       " Linear(in_features=128, out_features=128, bias=True),\n",
       " ReLU(),\n",
       " Dropout(p=0.03, inplace=False),\n",
       " Linear(in_features=128, out_features=10, bias=True)]"
      ]
     },
     "execution_count": 30,
     "metadata": {},
     "output_type": "execute_result"
    }
   ],
   "source": [
    "layers"
   ]
  },
  {
   "cell_type": "code",
   "execution_count": 29,
   "metadata": {},
   "outputs": [
    {
     "name": "stdout",
     "output_type": "stream",
     "text": [
      "Epoch 9... (Train/Test) NLL: 0.062/0.067\tAccuracy: 0.980/0.977\n"
     ]
    },
    {
     "data": {
      "image/png": "[encoded data removed]",
      "text/plain": [
       "<Figure size 864x360 with 2 Axes>"
      ]
     },
     "metadata": {
      "needs_background": "light"
     },
     "output_type": "display_data"
    },
    {
     "name": "stdout",
     "output_type": "stream",
     "text": [
      "CPU times: user 18min, sys: 1min, total: 19min 1s\n",
      "Wall time: 3min 11s\n"
     ]
    },
    {
     "data": {
      "text/plain": [
       "([0.5510937359128425,\n",
       "  0.19395810361705354,\n",
       "  0.14282061048408054,\n",
       "  0.11990743186841132,\n",
       "  0.10055101207340322,\n",
       "  0.08866226486265977,\n",
       "  0.08013827178968803,\n",
       "  0.07274765138035771,\n",
       "  0.06654328992391732,\n",
       "  0.0617061042026289],\n",
       " [0.20699811453306222,\n",
       "  0.14951835912239703,\n",
       "  0.11821678903283953,\n",
       "  0.10198347595862195,\n",
       "  0.0941451522934286,\n",
       "  0.09454170126273427,\n",
       "  0.07617501055090865,\n",
       "  0.06973792359091435,\n",
       "  0.07404392973602383,\n",
       "  0.06668835168680813],\n",
       " [0.83326674,\n",
       "  0.9382218,\n",
       "  0.9535803,\n",
       "  0.9615983,\n",
       "  0.9678005,\n",
       "  0.9714597,\n",
       "  0.9735808,\n",
       "  0.97578514,\n",
       "  0.9780562,\n",
       "  0.9795109],\n",
       " [0.93779665,\n",
       "  0.9521361,\n",
       "  0.9635087,\n",
       "  0.96845335,\n",
       "  0.96845335,\n",
       "  0.96795887,\n",
       "  0.9739913,\n",
       "  0.97735363,\n",
       "  0.9764636,\n",
       "  0.97685915])"
      ]
     },
     "execution_count": 29,
     "metadata": {},
     "output_type": "execute_result"
    }
   ],
   "source": [
    "%%time\n",
    "\n",
    "#blank\n",
    "from train_utils import train\n",
    "\n",
    "network = TestNetwork(nn.Sequential(*layers))\n",
    "\n",
    "train(network, train_loader, test_loader, 10, 0.001, device='cpu')"
   ]
  },
  {
   "cell_type": "code",
   "execution_count": null,
   "metadata": {},
   "outputs": [],
   "source": []
  },
  {
   "cell_type": "code",
   "execution_count": 35,
   "metadata": {},
   "outputs": [],
   "source": [
    "sizes = [196, 128, 128, 10]\n",
    "layers = []\n",
    "for size_input, size_output in zip(sizes, sizes[1:]):\n",
    "    layers.append(DropConnect(size_input, size_output, 0.97)) \n",
    "    layers.append(nn.ReLU())\n",
    "        "
   ]
  },
  {
   "cell_type": "code",
   "execution_count": 36,
   "metadata": {},
   "outputs": [
    {
     "name": "stdout",
     "output_type": "stream",
     "text": [
      "Epoch 9... (Train/Test) NLL: 0.194/0.508\tAccuracy: 0.943/0.966\n"
     ]
    },
    {
     "data": {
      "image/png": "[encoded data removed]",
      "text/plain": [
       "<Figure size 864x360 with 2 Axes>"
      ]
     },
     "metadata": {
      "needs_background": "light"
     },
     "output_type": "display_data"
    },
    {
     "name": "stdout",
     "output_type": "stream",
     "text": [
      "CPU times: user 18min 59s, sys: 1min 4s, total: 20min 4s\n",
      "Wall time: 3min 22s\n"
     ]
    },
    {
     "data": {
      "text/plain": [
       "([1.444305912390955,\n",
       "  0.6534456089615568,\n",
       "  0.4522814482831752,\n",
       "  0.37203984852157423,\n",
       "  0.3088366544640649,\n",
       "  0.27546783463596536,\n",
       "  0.24522848376460166,\n",
       "  0.2272850953534976,\n",
       "  0.20982120635667081,\n",
       "  0.19420673284353987],\n",
       " [1.8824816612597508,\n",
       "  1.0672478905961484,\n",
       "  0.9313385671216853,\n",
       "  0.8026137774503683,\n",
       "  0.7088466331928591,\n",
       "  0.6840876011248631,\n",
       "  0.6003190152305826,\n",
       "  0.5651980218819425,\n",
       "  0.5254709240363371,\n",
       "  0.5078316614937326],\n",
       " [0.48117116,\n",
       "  0.7790956,\n",
       "  0.8549329,\n",
       "  0.88517237,\n",
       "  0.9066609,\n",
       "  0.91754395,\n",
       "  0.9272277,\n",
       "  0.93189746,\n",
       "  0.9387438,\n",
       "  0.94283605],\n",
       " [0.7863924,\n",
       "  0.9116891,\n",
       "  0.93166536,\n",
       "  0.9444225,\n",
       "  0.9519383,\n",
       "  0.9563885,\n",
       "  0.9627176,\n",
       "  0.96400315,\n",
       "  0.96677214,\n",
       "  0.9658821])"
      ]
     },
     "execution_count": 36,
     "metadata": {},
     "output_type": "execute_result"
    }
   ],
   "source": [
    "%%time\n",
    "\n",
    "#blank\n",
    "from train_utils import train\n",
    "\n",
    "network = TestNetwork(nn.Sequential(*layers))\n",
    "\n",
    "train(network, train_loader, test_loader, 10, 0.001, device='cpu')"
   ]
  },
  {
   "cell_type": "markdown",
   "metadata": {
    "id": "pooEVZFbaf_L"
   },
   "source": [
    "В test-time стохастичность Dropout убирают и заменяют все веса на их ожидаемое значение: $\\mathbb{E}w = pw + (1-p)0 = pw$."
   ]
  },
  {
   "cell_type": "markdown",
   "metadata": {
    "id": "yfBC8qS4af_K"
   },
   "source": [
    "<i> 2.3 Сделайте выводы по третьей части. </i>"
   ]
  },
  {
   "cell_type": "raw",
   "metadata": {},
   "source": [
    "Итого, каечтсво немного ухудшилось. Но сложно что-либо говорить по 10 эпохам. Мб здесь недообучение, ибо на второй сети лосс к последней эпохе все еще достаточно большой"
   ]
  },
  {
   "cell_type": "markdown",
   "metadata": {
    "id": "zFTfYoSSvm5h"
   },
   "source": []
  },
  {
   "cell_type": "markdown",
   "metadata": {
    "id": "if-VP-I4af_M"
   },
   "source": [
    "### Часть 3: Batch Normalization"
   ]
  },
  {
   "cell_type": "markdown",
   "metadata": {
    "id": "Vba0rSy-af_N"
   },
   "source": [
    "Наконец, давайте рассмотрим Batch Normalization. Этот слой вычитает среднее и делит на стандартное отклонение. Среднее и дисперсия вычисляются по батчу независимо для каждого нейрона. У этого слоя есть две важные проблемы: его нельзя использовать при обучении с размером батча 1 и он делает элементы батча зависимыми. Давайте реализуем аналог батч нормализации: <a href=https://arxiv.org/pdf/1607.06450.pdf>Layer normalization</a>. В layer normalization среднее и дисперсия вычисляются по активациям нейронов, независимо для каждого объекта."
   ]
  },
  {
   "cell_type": "markdown",
   "metadata": {
    "id": "cqUTAtjIaf_O"
   },
   "source": [
    "<i> 3.1 Реализуйте Layer Normalization </i>"
   ]
  },
  {
   "cell_type": "code",
   "execution_count": 81,
   "metadata": {},
   "outputs": [
    {
     "data": {
      "text/plain": [
       "Parameter containing:\n",
       "tensor([1.], requires_grad=True)"
      ]
     },
     "execution_count": 81,
     "metadata": {},
     "output_type": "execute_result"
    }
   ],
   "source": [
    "a = torch.nn.Parameter(torch.Tensor([1.0]))\n",
    "a"
   ]
  },
  {
   "cell_type": "code",
   "execution_count": 82,
   "metadata": {},
   "outputs": [
    {
     "data": {
      "text/plain": [
       "tensor([[1., 1.],\n",
       "        [1., 1.],\n",
       "        [1., 1.]], grad_fn=<RepeatBackward>)"
      ]
     },
     "execution_count": 82,
     "metadata": {},
     "output_type": "execute_result"
    }
   ],
   "source": [
    "b = a.repeat(3, 2)\n",
    "b"
   ]
  },
  {
   "cell_type": "code",
   "execution_count": 93,
   "metadata": {},
   "outputs": [
    {
     "data": {
      "text/plain": [
       "tensor([[1., 1., 1.],\n",
       "        [1., 1., 1.]], grad_fn=<RepeatBackward>)"
      ]
     },
     "execution_count": 93,
     "metadata": {},
     "output_type": "execute_result"
    }
   ],
   "source": [
    "b.mean(1).repeat(b.size(1), 1)"
   ]
  },
  {
   "cell_type": "code",
   "execution_count": 207,
   "metadata": {},
   "outputs": [],
   "source": [
    "# полезные функции: .std(dim), .mean(dim)\n",
    "\n",
    "class LayerNormalization(nn.Module):\n",
    "    def __init__(self):\n",
    "        super(LayerNormalization, self).__init__()\n",
    "        self.gamma = torch.nn.Parameter(torch.Tensor([1.0]))\n",
    "        self.beta = torch.nn.Parameter(torch.Tensor([0.0]))\n",
    "        \n",
    "    def forward(self, x):\n",
    "        batch_size,n_activations = x.size()\n",
    "        #print(x.size())\n",
    "        one = self.gamma.repeat(batch_size,n_activations)\n",
    "        #orch.mul(one, )\n",
    "        two = (x - (x.mean(1).repeat(n_activations, 1)).T) / (x.std(1).repeat(n_activations, 1) ** 0.5 + 0.0005).T\n",
    "        #print('two', two.size())\n",
    "        three = self.beta.repeat(batch_size,n_activations)\n",
    "        #print(one.size(), two.size(), three.size(), \"!\")\n",
    "        output = one * two + three\n",
    "        \n",
    "        return output"
   ]
  },
  {
   "cell_type": "code",
   "execution_count": 67,
   "metadata": {
    "id": "e2H4VX4_af_O"
   },
   "outputs": [],
   "source": [
    "# полезные функции: .std(dim), .mean(dim)\n",
    "\n",
    "class LayerNormalization(nn.Module):\n",
    "    def __init__(self):\n",
    "        super(LayerNormalization, self).__init__()\n",
    "        self.gamma = torch.nn.Parameter(torch.Tensor([1.0]))\n",
    "        self.beta = torch.nn.Parameter(torch.Tensor([0.0]))\n",
    "        \n",
    "    def forward(self, x):\n",
    "        batch_size,n_activations = x.size()\n",
    "        print(batch_size,n_activations)\n",
    "        output = self.gamma.repeat(batch_size,n_activations) * \\\n",
    "                (x - x.mean(1).repeat(1,n_activations)) / x.std(1).repeat(1,n_activations) + \\\n",
    "                self.beta.repeat(batch_size,n_activations)\n",
    "        return output"
   ]
  },
  {
   "cell_type": "markdown",
   "metadata": {
    "id": "g2sTZ7h5af_T"
   },
   "source": [
    "<i> \n",
    "3.2 Сравните графики обучения нейроных сетей:\n",
    "1. Свертки из TestNetwork -> 128 -> 128 -> 10 с ReLU и Batch normalization между всеми слоями \n",
    "2. Свертки из TestNetwork -> 128 -> 128 -> 10 с ReLU и Layer normalization между всеми слоями \n",
    "</i>"
   ]
  },
  {
   "cell_type": "code",
   "execution_count": 51,
   "metadata": {
    "id": "q1PPqKRZaf_U"
   },
   "outputs": [],
   "source": [
    "sizes = [196, 128, 128, 10]\n",
    "layers = []\n",
    "for size_input, size_output in zip(sizes, sizes[1:]):\n",
    "    layers.append(nn.Linear(size_input, size_output)) \n",
    "    layers.append(nn.ReLU())\n",
    "    layers.append(nn.BatchNorm1d(size_output))"
   ]
  },
  {
   "cell_type": "code",
   "execution_count": 52,
   "metadata": {},
   "outputs": [
    {
     "data": {
      "text/plain": [
       "[Linear(in_features=196, out_features=128, bias=True),\n",
       " ReLU(),\n",
       " BatchNorm1d(128, eps=1e-05, momentum=0.1, affine=True, track_running_stats=True),\n",
       " Linear(in_features=128, out_features=128, bias=True),\n",
       " ReLU(),\n",
       " BatchNorm1d(128, eps=1e-05, momentum=0.1, affine=True, track_running_stats=True),\n",
       " Linear(in_features=128, out_features=10, bias=True),\n",
       " ReLU(),\n",
       " BatchNorm1d(10, eps=1e-05, momentum=0.1, affine=True, track_running_stats=True)]"
      ]
     },
     "execution_count": 52,
     "metadata": {},
     "output_type": "execute_result"
    }
   ],
   "source": [
    "layers"
   ]
  },
  {
   "cell_type": "code",
   "execution_count": 53,
   "metadata": {},
   "outputs": [
    {
     "name": "stdout",
     "output_type": "stream",
     "text": [
      "Epoch 9... (Train/Test) NLL: 0.042/0.066\tAccuracy: 0.989/0.982\n"
     ]
    },
    {
     "data": {
      "image/png": "[encoded data removed]",
      "text/plain": [
       "<Figure size 864x360 with 2 Axes>"
      ]
     },
     "metadata": {
      "needs_background": "light"
     },
     "output_type": "display_data"
    },
    {
     "name": "stdout",
     "output_type": "stream",
     "text": [
      "CPU times: user 22min 10s, sys: 1min 14s, total: 23min 25s\n",
      "Wall time: 3min 56s\n"
     ]
    },
    {
     "data": {
      "text/plain": [
       "([0.44326773724322127,\n",
       "  0.1910679483814026,\n",
       "  0.1267593268281234,\n",
       "  0.09766047954686415,\n",
       "  0.08203447044197558,\n",
       "  0.06696263985879132,\n",
       "  0.05873945765078131,\n",
       "  0.050495252636735884,\n",
       "  0.0463687489176594,\n",
       "  0.04235922000499994],\n",
       " [0.24505445455448538,\n",
       "  0.13340583698281758,\n",
       "  0.09784852180488501,\n",
       "  0.08920162949192373,\n",
       "  0.08061459226698815,\n",
       "  0.0752731328712234,\n",
       "  0.0723743392744019,\n",
       "  0.07228796720457605,\n",
       "  0.06485598672275679,\n",
       "  0.06585544786309894],\n",
       " [0.9208977,\n",
       "  0.9690943,\n",
       "  0.97631264,\n",
       "  0.98014945,\n",
       "  0.9813933,\n",
       "  0.98406404,\n",
       "  0.9859297,\n",
       "  0.98710686,\n",
       "  0.98807853,\n",
       "  0.98913914],\n",
       " [0.9662777,\n",
       "  0.9766614,\n",
       "  0.9793315,\n",
       "  0.977947,\n",
       "  0.9790348,\n",
       "  0.9805182,\n",
       "  0.9790348,\n",
       "  0.9784415,\n",
       "  0.98140824,\n",
       "  0.981606])"
      ]
     },
     "execution_count": 53,
     "metadata": {},
     "output_type": "execute_result"
    }
   ],
   "source": [
    "%%time\n",
    "\n",
    "#blank\n",
    "from train_utils import train\n",
    "\n",
    "network = TestNetwork(nn.Sequential(*layers))\n",
    "\n",
    "train(network, train_loader, test_loader, 10, 0.001, device='cpu')"
   ]
  },
  {
   "cell_type": "code",
   "execution_count": 205,
   "metadata": {},
   "outputs": [
    {
     "data": {
      "text/plain": [
       "[Linear(in_features=196, out_features=128, bias=True),\n",
       " ReLU(),\n",
       " LayerNormalization(),\n",
       " Linear(in_features=128, out_features=128, bias=True),\n",
       " ReLU(),\n",
       " LayerNormalization(),\n",
       " Linear(in_features=128, out_features=10, bias=True),\n",
       " ReLU(),\n",
       " LayerNormalization()]"
      ]
     },
     "execution_count": 205,
     "metadata": {},
     "output_type": "execute_result"
    }
   ],
   "source": [
    "sizes = [196, 128, 128, 10]\n",
    "layers = []\n",
    "for size_input, size_output in zip(sizes, sizes[1:]):\n",
    "    layers.append(nn.Linear(size_input, size_output)) \n",
    "    layers.append(nn.ReLU())\n",
    "    layers.append(LayerNormalization())\n",
    "    \n",
    "layers"
   ]
  },
  {
   "cell_type": "code",
   "execution_count": 206,
   "metadata": {},
   "outputs": [
    {
     "name": "stdout",
     "output_type": "stream",
     "text": [
      "Epoch 9... (Train/Test) NLL: 0.030/0.068\tAccuracy: 0.990/0.979\n"
     ]
    },
    {
     "data": {
      "image/png": "[encoded data removed]",
      "text/plain": [
       "<Figure size 864x360 with 2 Axes>"
      ]
     },
     "metadata": {
      "needs_background": "light"
     },
     "output_type": "display_data"
    },
    {
     "name": "stdout",
     "output_type": "stream",
     "text": [
      "CPU times: user 19min 34s, sys: 1min, total: 20min 35s\n",
      "Wall time: 3min 27s\n"
     ]
    },
    {
     "data": {
      "text/plain": [
       "([0.38630229908266045,\n",
       "  0.10646514141403918,\n",
       "  0.0770790751016677,\n",
       "  0.0648211143525647,\n",
       "  0.05304012677646173,\n",
       "  0.046222009403166425,\n",
       "  0.04121109386479089,\n",
       "  0.03420871382565307,\n",
       "  0.03191478007352913,\n",
       "  0.02963386669329036],\n",
       " [0.11868126398023171,\n",
       "  0.08104028482626699,\n",
       "  0.06303008560892902,\n",
       "  0.0594551578234834,\n",
       "  0.056775865156816534,\n",
       "  0.06752412370111369,\n",
       "  0.052662704629186964,\n",
       "  0.060385589723628535,\n",
       "  0.04868470488522862,\n",
       "  0.06808687654571442],\n",
       " [0.9063888,\n",
       "  0.9681725,\n",
       "  0.9761905,\n",
       "  0.98019946,\n",
       "  0.98355323,\n",
       "  0.9856632,\n",
       "  0.9866904,\n",
       "  0.9888171,\n",
       "  0.9897666,\n",
       "  0.9903052],\n",
       " [0.9649921,\n",
       "  0.97577137,\n",
       "  0.98002374,\n",
       "  0.97992486,\n",
       "  0.9818038,\n",
       "  0.9790348,\n",
       "  0.9817049,\n",
       "  0.9825949,\n",
       "  0.9848695,\n",
       "  0.9794304])"
      ]
     },
     "execution_count": 206,
     "metadata": {},
     "output_type": "execute_result"
    }
   ],
   "source": [
    "%%time\n",
    "\n",
    "#blank\n",
    "from train_utils import train\n",
    "\n",
    "network = TestNetwork(nn.Sequential(*layers))\n",
    "\n",
    "train(network, train_loader, test_loader, 10, 0.001, device='cpu')"
   ]
  },
  {
   "cell_type": "markdown",
   "metadata": {
    "id": "CudyBOIgaf_X"
   },
   "source": [
    "<i> 3.3 Сделайте выводы по третьей части </i>"
   ]
  },
  {
   "cell_type": "raw",
   "metadata": {},
   "source": [
    "Выходит, что стандратный batch-norm работает одинаково с моей реализацией. Если я все правильно понял, \n",
    "то batch-norm 1d вычисляет средние вдоль оси и выполняет операции нормировки. Что делает и мой код, \n",
    "поэтому они почти идентичны. Поправьте, если я не до конца точен."
   ]
  },
  {
   "cell_type": "markdown",
   "metadata": {
    "id": "PgZh16-IvluR"
   },
   "source": []
  },
  {
   "cell_type": "markdown",
   "metadata": {
    "id": "8VTz6VQ5af_Z"
   },
   "source": [
    "#### Feedback (опционально)"
   ]
  },
  {
   "cell_type": "markdown",
   "metadata": {
    "id": "ewz7GZvvaf_Z"
   },
   "source": [
    "Здесь вы можете оставить список опечаток из лекции или семинара:"
   ]
  },
  {
   "cell_type": "markdown",
   "metadata": {
    "id": "XCSe88HUaf_a"
   },
   "source": []
  },
  {
   "cell_type": "markdown",
   "metadata": {
    "id": "58N5yqKUaf_b"
   },
   "source": [
    "Здесь вы можете оставить комментарии по лекции или семинару:"
   ]
  },
  {
   "cell_type": "markdown",
   "metadata": {
    "id": "SeGFzT7vaf_b"
   },
   "source": []
  }
 ],
 "metadata": {
  "accelerator": "GPU",
  "colab": {
   "collapsed_sections": [],
   "name": "[2020] Practice task 5, Speedup.ipynb",
   "provenance": [],
   "toc_visible": true
  },
  "kernelspec": {
   "display_name": "Python 3",
   "language": "python",
   "name": "python3"
  },
  "language_info": {
   "codemirror_mode": {
    "name": "ipython",
    "version": 3
   },
   "file_extension": ".py",
   "mimetype": "text/x-python",
   "name": "python",
   "nbconvert_exporter": "python",
   "pygments_lexer": "ipython3",
   "version": "3.7.9"
  },
  "latex_envs": {
   "bibliofile": "biblio.bib",
   "cite_by": "apalike",
   "current_citInitial": 1,
   "eqLabelWithNumbers": true,
   "eqNumInitial": 0
  }
 },
 "nbformat": 4,
 "nbformat_minor": 1
}
