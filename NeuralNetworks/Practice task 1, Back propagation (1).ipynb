{
 "cells": [
  {
   "cell_type": "markdown",
   "metadata": {},
   "source": [
    "## Семинар 1 \"Полносвязные нейронные сети\""
   ]
  },
  {
   "cell_type": "markdown",
   "metadata": {},
   "source": [
    "ФИО: Косарев Евгений Александрович"
   ]
  },
  {
   "cell_type": "markdown",
   "metadata": {},
   "source": [
    "В этом задании вам предстоит реализовать проход \"вперед\" для полносвязной нейронную сети. В дальнейшем мы реализуем процедуру обучения и научим сеть распознавать рукописные цифры.\n",
    "\n",
    "На первой лекции мы познакомились с тем, что такое нейронные сети и изучили три слоя — линейный, сигмоида и SoftMax. Из этих слоев можно составлять глубокие архитектуры и обучать их при помощи градиентного спуска. Чтобы конструировать сложные архитектуры, можно реализовать каждый тип слоя как отдельный \"кирпичик\" и затем собирать полную архитектуру как конструктор. Это мы и попробуем сделать на первом и втором семинарах."
   ]
  },
  {
   "cell_type": "markdown",
   "metadata": {},
   "source": [
    "Каждый тип слоя мы будем реализовывать при помощи класса, который будет поддерживать три функции: forward, которая будет применять функцию, реализуемую слоем, к входной матрице и backward, которая будет вычислять градиенты и step, которая будет обновлять веса. Чтобы не применять функцию к каждому объекту в отдельности, мы будем подавать на вход слою матрицу размера (N, d), где N — количество объектов, а d — размерность каждого объекта."
   ]
  },
  {
   "cell_type": "markdown",
   "metadata": {},
   "source": [
    "<img src='backprop.pdf' width='400' />"
   ]
  },
  {
   "cell_type": "markdown",
   "metadata": {},
   "source": [
    "Функция forward будет вычислять по $x$ значение $y$, backward — по $\\frac{\\partial L}{\\partial y}$ вычислять $\\frac{\\partial L}{\\partial x}$ и обновлять внутри себя $\\frac{\\partial L}{\\partial w}$.\n",
    "\n",
    "Важным требованием к реализации является векторизация всех слоев: все операции должны быть сведены к матричным, не должно быть циклов. Это значительно уменьшает временные затраты."
   ]
  },
  {
   "cell_type": "code",
   "execution_count": 1,
   "metadata": {},
   "outputs": [],
   "source": [
    "import matplotlib.pyplot as plt\n",
    "import numpy as np\n",
    "%matplotlib inline"
   ]
  },
  {
   "cell_type": "markdown",
   "metadata": {},
   "source": [
    "### Часть 1: Линейный слой\n"
   ]
  },
  {
   "cell_type": "markdown",
   "metadata": {},
   "source": [
    "Приведем пример вычисления градиентов для линейного слоя: $y = Wx$, $x \\in \\mathbb{R}^{K \\times n}$, $y \\in \\mathbb{R}^{K \\times n}$, $W \\in \\mathbb{R}^{n \\times m}$, где $K$ — число объектов.\n",
    "\n",
    "Рассмотрим $L$ как функцию от выходов нейронной сети: $L = L(y_{11}, y_{12}, \\dots)$\n",
    "\n",
    "$$y_{kt} = (Wx)_{kt} = \\sum_{z=1}^{n} x_{kz}W_{zt}$$\n",
    "\n",
    "$$\\frac{\\partial L}{\\partial x_{ij}} = \\sum_{kt} \\frac{\\partial L}{\\partial y_{kt}}\\frac{\\partial y_{kt}}{\\partial x_{ij}} = \\sum_{kt} \\frac{\\partial L}{\\partial y_{kt}}\\frac{\\partial \\sum_z x_{kz}w_{zt}}{\\partial x_{ij}}= \\sum_{t} \\frac{\\partial L}{\\partial y_{it}}\\frac{\\partial w_{jt}}{\\partial x_{ij}}$$\n",
    "\n",
    "$$\\frac{\\partial{L}}{\\partial x} = \\frac{\\partial{L}}{\\partial y}W^T$$"
   ]
  },
  {
   "cell_type": "code",
   "execution_count": null,
   "metadata": {},
   "outputs": [],
   "source": []
  },
  {
   "cell_type": "code",
   "execution_count": 2,
   "metadata": {},
   "outputs": [],
   "source": [
    "class Linear:\n",
    "    def __init__(self, input_size, output_size):\n",
    "        '''\n",
    "        Creates weights and biases for linear layer.\n",
    "        Dimention of inputs is *input_size*, of output: *output_size*.\n",
    "        '''\n",
    "        self.W = np.random.randn(input_size, output_size) * 0.01\n",
    "        self.b = np.zeros(output_size)\n",
    "        #self.n_samples = 1\n",
    "    \n",
    "    def forward(self, X):\n",
    "        '''\n",
    "        Passes objects through this layer.\n",
    "        X is np.array of size (N, input_size).\n",
    "        Returns output of size (N, output_size).\n",
    "        Hint: You may need to store X for backward pass\n",
    "        '''\n",
    "        self.X = X\n",
    "        return X @ self.W + self.b\n",
    "    \n",
    "    def backward(self, dLdy):\n",
    "        '''\n",
    "        1. Compute dLdw and dLdx.\n",
    "        2. Store dLdw for step() call\n",
    "        3. Return dLdx\n",
    "        '''\n",
    "        #### YOUR CODE HERE\n",
    "        self.dLdW = self.X.T.dot(dLdy)\n",
    "        self.dLdb = dLdy.sum(axis = 0)\n",
    "        return dLdy @ self.W.T\n",
    "    \n",
    "    def step(self, learning_rate):\n",
    "        '''\n",
    "        1. Apply gradient dLdw to network:\n",
    "        w <- w - l*dLdw\n",
    "        '''\n",
    "        \n",
    "        self.W = self.W - learning_rate * self.dLdW\n",
    "        self.b = self.b - learning_rate * self.dLdb\n",
    "        "
   ]
  },
  {
   "cell_type": "code",
   "execution_count": 264,
   "metadata": {},
   "outputs": [
    {
     "data": {
      "text/plain": [
       "((2, 3), (3, 1))"
      ]
     },
     "execution_count": 264,
     "metadata": {},
     "output_type": "execute_result"
    }
   ],
   "source": [
    "a = np.array([[1, 2, 3], [3, 4, 5]])\n",
    "b = np.array([[1], [0], [1]])\n",
    "a.shape, b.shape"
   ]
  },
  {
   "cell_type": "code",
   "execution_count": 69,
   "metadata": {},
   "outputs": [
    {
     "data": {
      "text/plain": [
       "array([[4],\n",
       "       [8]])"
      ]
     },
     "execution_count": 69,
     "metadata": {},
     "output_type": "execute_result"
    }
   ],
   "source": [
    "a @ b"
   ]
  },
  {
   "cell_type": "markdown",
   "metadata": {},
   "source": [
    "### Часть 2: Численный градиент"
   ]
  },
  {
   "cell_type": "markdown",
   "metadata": {},
   "source": [
    "Релизуйте функцию проверки численного градиента. Для этого для каждой переменной, по которой считается градиент, надо вычислить численный градиент: $f'(x) \\approx \\frac{f(x+\\epsilon)-f(x-\\epsilon)}{2\\epsilon}$. Функция должна возвращать максимальное абсолютное отклонение аналитического градиента от численного. В качестве $\\epsilon$ рекомендуется взять $10^{-6}$. При правильной реализации максимальное отличие будет иметь порядок $10^{-8}-10^{-6}$."
   ]
  },
  {
   "cell_type": "code",
   "execution_count": 142,
   "metadata": {},
   "outputs": [],
   "source": [
    "def check_gradient(func, X, gradient):\n",
    "    '''\n",
    "    Computes numerical gradient and compares it with analytcal.\n",
    "    func: callable, function of which gradient we are interested. Example call: func(X)\n",
    "    X: np.array of size (n x m)\n",
    "    gradient: np.array of size (n x m)\n",
    "    Returns: maximum absolute diviation between numerical gradient and analytical.\n",
    "    '''\n",
    "    #### YOUR CODE HERE\n",
    "    eps = 10 ** (-6)\n",
    "    \n",
    "    grad_vect = np.zeros(gradient.shape)\n",
    "    \n",
    "    for i in range(X.shape[0]):\n",
    "        for j in range(X.shape[1]):\n",
    "            X[i, j] += eps\n",
    "            f_left = func(X)\n",
    "            X[i, j] -= 2 * eps\n",
    "            f_right = func(X)\n",
    "            X[i, j] += eps\n",
    "            \n",
    "            grad_vect[i, j] = (f_left - f_right) / (2 * eps)\n",
    "    return np.max(np.abs(grad_vect - gradient))"
   ]
  },
  {
   "cell_type": "code",
   "execution_count": 316,
   "metadata": {},
   "outputs": [
    {
     "data": {
      "text/plain": [
       "4.2367764852002665e-09"
      ]
     },
     "execution_count": 316,
     "metadata": {},
     "output_type": "execute_result"
    }
   ],
   "source": [
    "np.random.seed(777)\n",
    "x = np.random.rand(10, 20)\n",
    "func = lambda x: (x**2).sum()\n",
    "gradient = 2*x\n",
    "check_gradient(func, x, gradient)"
   ]
  },
  {
   "cell_type": "markdown",
   "metadata": {},
   "source": [
    "Протестируйте линейный слой при помощи реализованной функции check_gradient: $\\frac{\\partial L}{\\partial x}$ и $\\frac{\\partial L}{\\partial w}$."
   ]
  },
  {
   "cell_type": "code",
   "execution_count": 317,
   "metadata": {},
   "outputs": [],
   "source": [
    "X = np.array([[1.0, 2], [3, 4]])\n",
    "y = np.array([[14], [15]])\n",
    "\n",
    "layer = Linear(2, 1)\n",
    "\n",
    "def mse_loss(W):\n",
    "    layer.W = W\n",
    "    \n",
    "    tmp = layer.forward(X)\n",
    "    \n",
    "    return np.mean((tmp - y) ** 2)\n"
   ]
  },
  {
   "cell_type": "code",
   "execution_count": 318,
   "metadata": {},
   "outputs": [
    {
     "data": {
      "text/plain": [
       "1.4464617947851366e-08"
      ]
     },
     "execution_count": 318,
     "metadata": {},
     "output_type": "execute_result"
    }
   ],
   "source": [
    "new_y = layer.forward(X)\n",
    "\n",
    "dLdy = 2 * (new_y - y) / y.shape[0]\n",
    "\n",
    "layer.backward(dLdy)\n",
    "\n",
    "check_gradient(mse_loss, layer.W, layer.dLdW)"
   ]
  },
  {
   "cell_type": "markdown",
   "metadata": {},
   "source": [
    "### Часть 3: Сигмоида"
   ]
  },
  {
   "cell_type": "code",
   "execution_count": 3,
   "metadata": {},
   "outputs": [],
   "source": [
    "class Sigmoid:\n",
    "    def __init__(self):\n",
    "        pass\n",
    "    \n",
    "    def forward(self, X):\n",
    "        '''\n",
    "        Passes objects through this layer.\n",
    "        X is np.array of size (N, d)\n",
    "        '''\n",
    "        #### YOUR CODE HERE\n",
    "        self.X = X.copy()\n",
    "        \n",
    "        return 1 / (1 + np.exp(-X))\n",
    "    \n",
    "    def backward(self, dLdy):\n",
    "        '''\n",
    "        1. Compute dLdx.\n",
    "        2. Return dLdx\n",
    "        '''\n",
    "        #### YOUR CODE HERE\n",
    "        self.dydX = np.exp(-self.X) / ((1 + np.exp(-self.X)) ** 2)\n",
    "        self.dLdx =  dLdy * self.dydX\n",
    "        return self.dLdx\n",
    "    \n",
    "    def step(self, learning_rate):\n",
    "        pass"
   ]
  },
  {
   "cell_type": "markdown",
   "metadata": {},
   "source": [
    "Протестируйте слой при помощи реализованной функции check_gradient: $\\frac{\\partial L}{\\partial x}$."
   ]
  },
  {
   "cell_type": "code",
   "execution_count": 366,
   "metadata": {},
   "outputs": [
    {
     "data": {
      "text/plain": [
       "0.0001581183091971977"
      ]
     },
     "execution_count": 366,
     "metadata": {},
     "output_type": "execute_result"
    }
   ],
   "source": [
    "X = np.array([[1., 2], [3, 4]])\n",
    "y = 1 / (1 + np.exp(-X)) + np.array([[0.001, 0.003], [0.007, 0.003]])\n",
    "layer = Sigmoid()\n",
    "\n",
    "def mse_loss(X):    \n",
    "    tmp = layer.forward(X)\n",
    "    return np.mean((tmp - y) ** 2)\n",
    "\n",
    "new_y = layer.forward(X)\n",
    "\n",
    "dLdy = 2 * (new_y - y) / y.shape[0]\n",
    "\n",
    "res = layer.backward(dLdy)\n",
    "check_gradient(mse_loss, X, res)"
   ]
  },
  {
   "cell_type": "markdown",
   "metadata": {},
   "source": [
    "### Часть 4: Функция потерь"
   ]
  },
  {
   "cell_type": "markdown",
   "metadata": {},
   "source": [
    "Как мы увидели на семинаре, вычисление производной для связки SoftMax + Negative log-likelihood проще чем для этих двух слоев по отдельности. Поэтому мы реализуем их как один класс. Важное замечание: на проходе \"вперед\" важно воспользоваться трюком <a href=\"https://blog.feedly.com/tricks-of-the-trade-logsumexp/\">log-sum-exp</a>, чтобы не столкнуться с численными неустойчивостями."
   ]
  },
  {
   "cell_type": "code",
   "execution_count": 4,
   "metadata": {},
   "outputs": [],
   "source": [
    "class NLLLoss:\n",
    "    def __init__(self):\n",
    "        '''\n",
    "        Applies Softmax operation to inputs and computes NLL loss\n",
    "        '''\n",
    "        #### YOUR CODE HERE\n",
    "        #### (Hint: No code is expected here, just joking)\n",
    "        \n",
    "        \"\"\"KEK:>\"\"\"\n",
    "        pass\n",
    "    \n",
    "    def forward(self, X, y):\n",
    "        '''\n",
    "        Passes objects through this layer.\n",
    "        X is np.array of size (N, C), where C is the number of classes\n",
    "        y is np.array of size (N), contains correct labels\n",
    "        '''\n",
    "        #### YOUR CODE HERE\n",
    "        #### Apply layer to input\n",
    "        NLL = 0\n",
    "        self.X = X.copy()\n",
    "        self.y = y.copy()\n",
    "        \n",
    "        for i in range(y.shape[0]):\n",
    "            c = np.max(X[i])\n",
    "            NLL -= X[i, y[i]] - np.log(np.exp(X[i] - c).sum()) - c\n",
    "            \n",
    "        \n",
    "        return NLL\n",
    "    \n",
    "    def backward(self):\n",
    "        '''\n",
    "        Note that here dLdy = 1 since L = y\n",
    "        1. Compute dLdx\n",
    "        2. Return dLdx\n",
    "        '''\n",
    "        #### YOUR CODE HERE\n",
    "        dLdx = np.zeros_like(self.X)\n",
    "        for i in range(self.X.shape[0]):\n",
    "            c = np.max(self.X[i])\n",
    "            exp_sum = np.log(np.exp(self.X[i] - c).sum()) + c\n",
    "            exp_sum = np.exp(exp_sum)\n",
    "            for j in range(self.X.shape[1]):\n",
    "                dLdx[i, j] += np.exp(self.X[i, j]) / exp_sum\n",
    "                if j == self.y[i]:\n",
    "                    dLdx[i, j] -= 1\n",
    "        return dLdx"
   ]
  },
  {
   "cell_type": "markdown",
   "metadata": {},
   "source": [
    "Протестируйте слой при помощи реализованной функции check_gradient: $\\frac{\\partial L}{\\partial x}$."
   ]
  },
  {
   "cell_type": "code",
   "execution_count": 368,
   "metadata": {},
   "outputs": [
    {
     "data": {
      "text/plain": [
       "4.822183763408816e-10"
      ]
     },
     "execution_count": 368,
     "metadata": {},
     "output_type": "execute_result"
    }
   ],
   "source": [
    "np.random.seed(777)\n",
    "shape = (4, 3)\n",
    "X = np.random.randn(shape[0], shape[1])\n",
    "y = np.random.randint(low=0, high=shape[1] - 1, size=shape[0])\n",
    "nll = NLLLoss()\n",
    "\n",
    "def func(X, y=y):\n",
    "    return nll.forward(X, y)\n",
    "\n",
    "result = nll.forward(X, y)\n",
    "gradients = nll.backward()\n",
    "\n",
    "check_gradient(func, X, gradients)"
   ]
  },
  {
   "cell_type": "markdown",
   "metadata": {},
   "source": [
    "### Часть 5, нейронная сеть"
   ]
  },
  {
   "cell_type": "markdown",
   "metadata": {},
   "source": [
    "Теперь, когда у нас есть \"кирпичики\", мы можем написать класс, который будет собирать всю сеть вместе "
   ]
  },
  {
   "cell_type": "code",
   "execution_count": 5,
   "metadata": {},
   "outputs": [],
   "source": [
    "class NeuralNetwork:\n",
    "    def __init__(self, modules):\n",
    "        '''\n",
    "        Constructs network with *modules* as its layers\n",
    "        '''\n",
    "        self.modules = modules\n",
    "        pass\n",
    "    \n",
    "    def forward(self, X):\n",
    "        ans = X\n",
    "        for i in self.modules:\n",
    "            ans = i.forward(ans)\n",
    "        return ans\n",
    "    \n",
    "    def backward(self, dLdy):\n",
    "        '''\n",
    "        dLdy here is a gradient from loss function\n",
    "        '''\n",
    "        for i in range(len(self.modules))[::-1]:\n",
    "            dLdy = self.modules[i].backward(dLdy)\n",
    "    \n",
    "    def step(self, learning_rate):\n",
    "        for i in modules:\n",
    "            i.step(learning_rate)"
   ]
  },
  {
   "cell_type": "markdown",
   "metadata": {},
   "source": [
    "### Часть 6, обучение на простых данных"
   ]
  },
  {
   "cell_type": "code",
   "execution_count": 6,
   "metadata": {},
   "outputs": [
    {
     "data": {
      "image/png": "[encoded data removed]",
      "text/plain": [
       "<Figure size 432x288 with 1 Axes>"
      ]
     },
     "metadata": {
      "needs_background": "light"
     },
     "output_type": "display_data"
    }
   ],
   "source": [
    "data = np.load('data.npz')\n",
    "X, y = data['arr_0'], data['arr_1']\n",
    "plt.scatter(X[:, 0], X[:, 1], c=y)\n",
    "plt.axis('equal')\n",
    "plt.show()"
   ]
  },
  {
   "cell_type": "markdown",
   "metadata": {},
   "source": [
    "Обучите архитектуру вида 2 -> 10 -> 10 -> 3:\n",
    "* Linear(2, 10)\n",
    "* Sigmoid()\n",
    "* Linear(10, 10)\n",
    "* Sigmoid()\n",
    "* Linear(10, 3)\n",
    "\n",
    "В качестве функции потерь используйте NLLLoss.\n",
    "1. Создайте сеть, в цикле запускайте forward, backward, step (используйте learning rate 0.005). \n",
    "2. Нарисуйте график сходимости (величина NLL после каждого обновления).\n",
    "3. Нарисуйте разделяющую поверхность\n",
    "4. Попробуйте подобрать темп обучения. Как меняется сходимость?"
   ]
  },
  {
   "cell_type": "markdown",
   "metadata": {},
   "source": [
    "Отличная визуализация: http://playground.tensorflow.org/"
   ]
  },
  {
   "cell_type": "markdown",
   "metadata": {},
   "source": [
    "## Домашнее задание:"
   ]
  },
  {
   "cell_type": "markdown",
   "metadata": {},
   "source": [
    "* Подоберите темп обучения. Как меняется сходимость? Нарисуйте график оптимального значения функции потерь для различных значений learning_rate\n",
    "* Решите поставленную выше задачу как задачу регрессии с MSE. Изменилась ли разделяющая поверхность?"
   ]
  },
  {
   "cell_type": "code",
   "execution_count": 483,
   "metadata": {},
   "outputs": [],
   "source": [
    "EPOCH = 1000\n",
    "LR = 0.005"
   ]
  },
  {
   "cell_type": "code",
   "execution_count": 484,
   "metadata": {},
   "outputs": [],
   "source": []
  },
  {
   "cell_type": "code",
   "execution_count": 485,
   "metadata": {},
   "outputs": [
    {
     "name": "stdout",
     "output_type": "stream",
     "text": [
      " loss now 7.3830432232360055"
     ]
    }
   ],
   "source": [
    "modules = [Linear(2, 10),\n",
    "        Sigmoid(),\n",
    "        Linear(10, 10),\n",
    "        Sigmoid(),\n",
    "        Linear(10, 3)]\n",
    "\n",
    "final_NN = NeuralNetwork(modules)\n",
    "loss_func = NLLLoss()\n",
    "\n",
    "losses = []\n",
    "\n",
    "for i in range(EPOCH):\n",
    "    res = final_NN.forward(X)\n",
    "    losses.append(loss_func.forward(res, y))\n",
    "    dLdy = loss_func.backward()\n",
    "    final_NN.backward(dLdy)\n",
    "    final_NN.step(LR)\n",
    "    print('\\r loss now {}'.format(losses[-1]), end='')"
   ]
  },
  {
   "cell_type": "code",
   "execution_count": 486,
   "metadata": {},
   "outputs": [
    {
     "data": {
      "text/plain": [
       "[<matplotlib.lines.Line2D at 0x7fca5b407c10>]"
      ]
     },
     "execution_count": 486,
     "metadata": {},
     "output_type": "execute_result"
    },
    {
     "data": {
      "image/png": "[encoded data removed]",
      "text/plain": [
       "<Figure size 432x288 with 1 Axes>"
      ]
     },
     "metadata": {
      "needs_background": "light"
     },
     "output_type": "display_data"
    }
   ],
   "source": [
    "plt.plot(losses)"
   ]
  },
  {
   "cell_type": "code",
   "execution_count": null,
   "metadata": {},
   "outputs": [],
   "source": []
  },
  {
   "cell_type": "code",
   "execution_count": 487,
   "metadata": {},
   "outputs": [
    {
     "data": {
      "image/png": "[encoded data removed]",
      "text/plain": [
       "<Figure size 432x288 with 1 Axes>"
      ]
     },
     "metadata": {
      "needs_background": "light"
     },
     "output_type": "display_data"
    }
   ],
   "source": [
    "dx, dy = (100, 100)\n",
    "x_lin = np.linspace(-0.1, 1.1, dx)\n",
    "y_lin = np.linspace(-0.1, 1.1, dy)\n",
    "Xc, Yc = np.meshgrid(x_lin, y_lin)\n",
    "C = np.zeros((dx-1, dy-1))\n",
    "for i in range(dx-1):\n",
    "    for j in range(dy-1):\n",
    "        results = []\n",
    "        for k in range(i, i+2):\n",
    "            for m in range(j, j+2):\n",
    "                res = final_NN.forward(np.array([[Xc[k, m], Yc[k, m]]]))\n",
    "                res = np.argmax(res)\n",
    "                results.append(res)\n",
    "        counts = np.bincount(np.array(results))\n",
    "        C[i, j] = np.argmax(counts)\n",
    "plt.pcolormesh(Xc, Yc, C)\n",
    "plt.show()"
   ]
  },
  {
   "cell_type": "code",
   "execution_count": 8,
   "metadata": {},
   "outputs": [
    {
     "name": "stdout",
     "output_type": "stream",
     "text": [
      " loss now 3446.9629720193298"
     ]
    }
   ],
   "source": [
    "optimal_loss = []\n",
    "max_loss = 1e6\n",
    "optimal_lr = 0\n",
    "EPOCH = 1000\n",
    "\n",
    "for test_lr in [0.001, 0.005, 0.01, 0.015, 0.1]:\n",
    "    modules = [Linear(2, 10),\n",
    "        Sigmoid(),\n",
    "        Linear(10, 10),\n",
    "        Sigmoid(),\n",
    "        Linear(10, 3)]\n",
    "\n",
    "    final_NN = NeuralNetwork(modules)\n",
    "    loss_func = NLLLoss()\n",
    "\n",
    "    losses = []\n",
    "\n",
    "    for i in range(EPOCH):\n",
    "        res = final_NN.forward(X)\n",
    "        losses.append(loss_func.forward(res, y))\n",
    "        dLdy = loss_func.backward()\n",
    "        final_NN.backward(dLdy)\n",
    "        final_NN.step(test_lr)\n",
    "        print('\\r loss now {}'.format(losses[-1]), end='')\n",
    "    if losses[-1] < max_loss:\n",
    "        optimal_loss = losses\n",
    "        max_loss = losses[-1]\n",
    "        optimal_lr = test_lr"
   ]
  },
  {
   "cell_type": "code",
   "execution_count": 9,
   "metadata": {},
   "outputs": [
    {
     "name": "stdout",
     "output_type": "stream",
     "text": [
      "0.01\n"
     ]
    },
    {
     "data": {
      "text/plain": [
       "[<matplotlib.lines.Line2D at 0x7f29b60d4650>]"
      ]
     },
     "execution_count": 9,
     "metadata": {},
     "output_type": "execute_result"
    },
    {
     "data": {
      "image/png": "[encoded data removed]",
      "text/plain": [
       "<Figure size 432x288 with 1 Axes>"
      ]
     },
     "metadata": {
      "needs_background": "light"
     },
     "output_type": "display_data"
    }
   ],
   "source": [
    "print(optimal_lr)\n",
    "plt.plot(optimal_loss)"
   ]
  },
  {
   "cell_type": "markdown",
   "metadata": {},
   "source": [
    "В результате подбора, оптимальный learning rate = 0.01"
   ]
  },
  {
   "cell_type": "code",
   "execution_count": 65,
   "metadata": {},
   "outputs": [],
   "source": [
    "class MSELoss:\n",
    "    def __init__(self):\n",
    "        #### YOUR CODE HERE\n",
    "        #### (Hint: No code is expected here, just joking)\n",
    "        \n",
    "        \"\"\"KEK:>\"\"\"\n",
    "        pass\n",
    "    \n",
    "    def forward(self, X, y):\n",
    "        '''\n",
    "        Passes objects through this layer.\n",
    "        X is np.array of size (N, C), where C is the number of classes\n",
    "        y is np.array of size (N), contains correct labels\n",
    "        '''\n",
    "        #### YOUR CODE HERE\n",
    "        #### Apply layer to input\n",
    "        self.X = X.copy()\n",
    "        self.y = y.copy().reshape(-1, 1)\n",
    "        return np.mean((X - self.y) ** 2)\n",
    "    \n",
    "    def backward(self):\n",
    "        '''\n",
    "        Note that here dLdy = 1 since L = y\n",
    "        1. Compute dLdx\n",
    "        2. Return dLdx\n",
    "        '''\n",
    "        #### YOUR CODE HERE\n",
    "        dLdx = 2 * (self.X - self.y) / self.X.shape[0]\n",
    "        return dLdx"
   ]
  },
  {
   "cell_type": "code",
   "execution_count": 68,
   "metadata": {},
   "outputs": [
    {
     "name": "stdout",
     "output_type": "stream",
     "text": [
      " loss now 0.5749347730624777"
     ]
    }
   ],
   "source": [
    "modules = [Linear(2, 10),\n",
    "        Sigmoid(),\n",
    "        Linear(10, 10),\n",
    "        Sigmoid(),\n",
    "        Linear(10, 3)]\n",
    "\n",
    "EPOCHS = 10000\n",
    "LR = 0.01\n",
    "\n",
    "\n",
    "final_NN = NeuralNetwork(modules)\n",
    "loss_func = MSELoss()\n",
    "\n",
    "losses = []\n",
    "\n",
    "for i in range(EPOCH):\n",
    "    res = final_NN.forward(X)\n",
    "    losses.append(loss_func.forward(res, y))\n",
    "    dLdy = loss_func.backward()\n",
    "    final_NN.backward(dLdy)\n",
    "    final_NN.step(LR)\n",
    "    print('\\r loss now {}'.format(losses[-1]), end='')"
   ]
  },
  {
   "cell_type": "code",
   "execution_count": 69,
   "metadata": {},
   "outputs": [
    {
     "data": {
      "image/png": "[encoded data removed]",
      "text/plain": [
       "<Figure size 432x288 with 1 Axes>"
      ]
     },
     "metadata": {
      "needs_background": "light"
     },
     "output_type": "display_data"
    }
   ],
   "source": [
    "dx, dy = (100, 100)\n",
    "x_lin = np.linspace(-0.1, 1.1, dx)\n",
    "y_lin = np.linspace(-0.1, 1.1, dy)\n",
    "Xc, Yc = np.meshgrid(x_lin, y_lin)\n",
    "C = np.zeros((dx-1, dy-1))\n",
    "for i in range(dx-1):\n",
    "    for j in range(dy-1):\n",
    "        results = []\n",
    "        for k in range(i, i+2):\n",
    "            for m in range(j, j+2):\n",
    "                res = final_NN.forward(np.array([[Xc[k, m], Yc[k, m]]]))\n",
    "                res = np.argmax(res)\n",
    "                results.append(res)\n",
    "        counts = np.bincount(np.array(results))\n",
    "        C[i, j] = np.argmax(counts)\n",
    "plt.pcolormesh(Xc, Yc, C)\n",
    "plt.show()"
   ]
  },
  {
   "cell_type": "code",
   "execution_count": 70,
   "metadata": {},
   "outputs": [
    {
     "name": "stdout",
     "output_type": "stream",
     "text": [
      " loss now 0.016635641535743453"
     ]
    }
   ],
   "source": [
    "optimal_loss = []\n",
    "max_loss = 1e6\n",
    "optimal_lr = 0\n",
    "EPOCH = 10000\n",
    "\n",
    "for test_lr in [0.001, 0.005, 0.01, 0.015, 0.1]:\n",
    "    modules = [Linear(2, 10),\n",
    "        Sigmoid(),\n",
    "        Linear(10, 10),\n",
    "        Sigmoid(),\n",
    "        Linear(10, 3)]\n",
    "\n",
    "    final_NN = NeuralNetwork(modules)\n",
    "    loss_func = MSELoss()\n",
    "\n",
    "    losses = []\n",
    "\n",
    "    for i in range(EPOCH):\n",
    "        res = final_NN.forward(X)\n",
    "        losses.append(loss_func.forward(res, y))\n",
    "        dLdy = loss_func.backward()\n",
    "        final_NN.backward(dLdy)\n",
    "        final_NN.step(test_lr)\n",
    "        print('\\r loss now {}'.format(losses[-1]), end='')\n",
    "    if losses[-1] < max_loss:\n",
    "        optimal_loss = losses\n",
    "        max_loss = losses[-1]\n",
    "        optimal_lr = test_lr"
   ]
  },
  {
   "cell_type": "code",
   "execution_count": 71,
   "metadata": {},
   "outputs": [
    {
     "name": "stdout",
     "output_type": "stream",
     "text": [
      "0.1\n"
     ]
    },
    {
     "data": {
      "text/plain": [
       "[<matplotlib.lines.Line2D at 0x7f29b5a5dc50>]"
      ]
     },
     "execution_count": 71,
     "metadata": {},
     "output_type": "execute_result"
    },
    {
     "data": {
      "image/png": "[encoded data removed]",
      "text/plain": [
       "<Figure size 432x288 with 1 Axes>"
      ]
     },
     "metadata": {
      "needs_background": "light"
     },
     "output_type": "display_data"
    }
   ],
   "source": [
    "print(optimal_lr)\n",
    "plt.plot(optimal_loss)"
   ]
  },
  {
   "cell_type": "code",
   "execution_count": 77,
   "metadata": {},
   "outputs": [
    {
     "name": "stdout",
     "output_type": "stream",
     "text": [
      " loss now 0.015706575357069635"
     ]
    }
   ],
   "source": [
    "modules = [Linear(2, 10),\n",
    "        Sigmoid(),\n",
    "        Linear(10, 10),\n",
    "        Sigmoid(),\n",
    "        Linear(10, 3)]\n",
    "\n",
    "EPOCHS = 10000\n",
    "LR = 0.2\n",
    "\n",
    "\n",
    "final_NN = NeuralNetwork(modules)\n",
    "loss_func = MSELoss()\n",
    "\n",
    "losses = []\n",
    "\n",
    "for i in range(EPOCH):\n",
    "    res = final_NN.forward(X)\n",
    "    losses.append(loss_func.forward(res, y))\n",
    "    dLdy = loss_func.backward()\n",
    "    final_NN.backward(dLdy)\n",
    "    final_NN.step(LR)\n",
    "    print('\\r loss now {}'.format(losses[-1]), end='')"
   ]
  },
  {
   "cell_type": "code",
   "execution_count": 78,
   "metadata": {},
   "outputs": [
    {
     "data": {
      "image/png": "[encoded data removed]",
      "text/plain": [
       "<Figure size 432x288 with 1 Axes>"
      ]
     },
     "metadata": {
      "needs_background": "light"
     },
     "output_type": "display_data"
    }
   ],
   "source": [
    "dx, dy = (100, 100)\n",
    "x_lin = np.linspace(-0.1, 1.1, dx)\n",
    "y_lin = np.linspace(-0.1, 1.1, dy)\n",
    "Xc, Yc = np.meshgrid(x_lin, y_lin)\n",
    "C = np.zeros((dx-1, dy-1))\n",
    "for i in range(dx-1):\n",
    "    for j in range(dy-1):\n",
    "        results = []\n",
    "        for k in range(i, i+2):\n",
    "            for m in range(j, j+2):\n",
    "                res = final_NN.forward(np.array([[Xc[k, m], Yc[k, m]]]))\n",
    "                res = np.argmax(res)\n",
    "                results.append(res)\n",
    "        counts = np.bincount(np.array(results))\n",
    "        C[i, j] = np.argmax(counts)\n",
    "plt.pcolormesh(Xc, Yc, C)\n",
    "\n",
    "plt.scatter(X[:, 0], X[:, 1], c=y)\n",
    "\n",
    "plt.show()"
   ]
  },
  {
   "cell_type": "markdown",
   "metadata": {},
   "source": [
    "Вывод:\n",
    "MSE не подходит для классификации, так как классам присвоены метки и MSE регрессии считает близость числе, но не принадлежность классам"
   ]
  },
  {
   "cell_type": "code",
   "execution_count": null,
   "metadata": {},
   "outputs": [],
   "source": []
  }
 ],
 "metadata": {
  "kernelspec": {
   "display_name": "Python 3",
   "language": "python",
   "name": "python3"
  },
  "language_info": {
   "codemirror_mode": {
    "name": "ipython",
    "version": 3
   },
   "file_extension": ".py",
   "mimetype": "text/x-python",
   "name": "python",
   "nbconvert_exporter": "python",
   "pygments_lexer": "ipython3",
   "version": "3.7.4"
  }
 },
 "nbformat": 4,
 "nbformat_minor": 2
}
