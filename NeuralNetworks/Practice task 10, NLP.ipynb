{
 "cells": [
  {
   "cell_type": "markdown",
   "metadata": {
    "colab_type": "text",
    "id": "f8oLyHeDeLFl"
   },
   "source": [
    "## Семинар 10: \"Генерация текстов\""
   ]
  },
  {
   "cell_type": "markdown",
   "metadata": {
    "colab_type": "text",
    "id": "FKtIjcqOeLFn"
   },
   "source": [
    "ФИО: Косарев Евгений Александрович"
   ]
  },
  {
   "cell_type": "code",
   "execution_count": 0,
   "metadata": {
    "colab": {},
    "colab_type": "code",
    "id": "6FbH-MWdeLFq"
   },
   "outputs": [],
   "source": [
    "import numpy as np\n",
    "import re\n",
    "from torch import nn\n",
    "from torch.autograd import Variable\n",
    "import matplotlib.pyplot as plt\n",
    "import torch\n",
    "from torch.utils.data import Dataset, DataLoader\n",
    "import sys\n",
    "from IPython.display import clear_output\n",
    "from tqdm.autonotebook import tqdm\n",
    "import progressbar\n",
    "%matplotlib inline"
   ]
  },
  {
   "cell_type": "markdown",
   "metadata": {
    "colab_type": "text",
    "id": "vDL64AY7eLFz"
   },
   "source": [
    "Этот семинар посвящен чат-ботам. Вам предстоит реализовать модель, генерирующую определенные тексты. В качестве текстов можно взять сборник цитат умных людей, предсказаний и т.д. На семинаре мы используем данные https://github.com/alvations/Quotables/blob/master/author-quote.txt\n",
    "\n",
    "При реализации задания вы можете пользоваться кодом из этого примера: <a href=https://github.com/spro/practical-pytorch/blob/master/char-rnn-generation/char-rnn-generation.ipynb>Generating Shakespeare with a Character-Level RNN</a>"
   ]
  },
  {
   "cell_type": "markdown",
   "metadata": {
    "colab_type": "text",
    "id": "ojbPfcKYeLF1"
   },
   "source": [
    "### Часть 1: подготовка данных"
   ]
  },
  {
   "cell_type": "markdown",
   "metadata": {
    "colab_type": "text",
    "id": "dqdlOinceLF2"
   },
   "source": [
    "Реализуйте датасет для дальнейшего обучения (будем использовать batch size=1)"
   ]
  },
  {
   "cell_type": "code",
   "execution_count": 203,
   "metadata": {
    "colab": {
     "base_uri": "https://localhost:8080/",
     "height": 204
    },
    "colab_type": "code",
    "id": "9uZNPXuQeetE",
    "outputId": "c53cc16e-ae01-49c1-a290-39f7ce40857c"
   },
   "outputs": [
    {
     "name": "stdout",
     "output_type": "stream",
     "text": [
      "--2020-04-29 15:03:04--  https://raw.githubusercontent.com/alvations/Quotables/master/author-quote.txt\n",
      "Resolving raw.githubusercontent.com (raw.githubusercontent.com)... 151.101.0.133, 151.101.64.133, 151.101.128.133, ...\n",
      "Connecting to raw.githubusercontent.com (raw.githubusercontent.com)|151.101.0.133|:443... connected.\n",
      "HTTP request sent, awaiting response... 200 OK\n",
      "Length: 5615127 (5.4M) [text/plain]\n",
      "Saving to: ‘author-quote.txt.4’\n",
      "\n",
      "author-quote.txt.4  100%[===================>]   5.35M  --.-KB/s    in 0.05s   \n",
      "\n",
      "2020-04-29 15:03:04 (99.8 MB/s) - ‘author-quote.txt.4’ saved [5615127/5615127]\n",
      "\n"
     ]
    }
   ],
   "source": [
    "!wget https://raw.githubusercontent.com/alvations/Quotables/master/author-quote.txt"
   ]
  },
  {
   "cell_type": "code",
   "execution_count": 0,
   "metadata": {
    "colab": {},
    "colab_type": "code",
    "id": "jMk28NsgeLF4"
   },
   "outputs": [],
   "source": [
    "lines = [\n",
    "    x.split('\\t')[0].strip() ##!!!!!\n",
    "    for x in open('author-quote.txt').readlines()\n",
    "]"
   ]
  },
  {
   "cell_type": "code",
   "execution_count": 0,
   "metadata": {
    "colab": {},
    "colab_type": "code",
    "id": "o55eJjxgix_n"
   },
   "outputs": [],
   "source": [
    "lines = list(set(lines))"
   ]
  },
  {
   "cell_type": "code",
   "execution_count": 292,
   "metadata": {
    "colab": {
     "base_uri": "https://localhost:8080/",
     "height": 34
    },
    "colab_type": "code",
    "id": "6nIqZOtgjATI",
    "outputId": "64f52cad-4a86-4ac3-8836-77bfce48ad4e"
   },
   "outputs": [
    {
     "data": {
      "text/plain": [
       "3112"
      ]
     },
     "execution_count": 292,
     "metadata": {
      "tags": []
     },
     "output_type": "execute_result"
    }
   ],
   "source": [
    "len(lines)"
   ]
  },
  {
   "cell_type": "code",
   "execution_count": 293,
   "metadata": {
    "colab": {
     "base_uri": "https://localhost:8080/",
     "height": 34
    },
    "colab_type": "code",
    "id": "26aX2GhQfyME",
    "outputId": "cd64f582-b8a1-4ac1-cddd-689e197dd002"
   },
   "outputs": [
    {
     "data": {
      "text/plain": [
       "'Michael Irvin'"
      ]
     },
     "execution_count": 293,
     "metadata": {
      "tags": []
     },
     "output_type": "execute_result"
    }
   ],
   "source": [
    "lines[0]"
   ]
  },
  {
   "cell_type": "code",
   "execution_count": 294,
   "metadata": {
    "colab": {
     "base_uri": "https://localhost:8080/",
     "height": 265
    },
    "colab_type": "code",
    "id": "a5g7DFfNeLGA",
    "outputId": "a0bdabc8-4c5d-4a86-8e00-d6a90b9aaf78"
   },
   "outputs": [
    {
     "data": {
      "image/png": "[encoded data removed]",
      "text/plain": [
       "<Figure size 432x288 with 1 Axes>"
      ]
     },
     "metadata": {
      "needs_background": "light",
      "tags": []
     },
     "output_type": "display_data"
    }
   ],
   "source": [
    "plt.hist(list(map(len, lines)), bins=100);"
   ]
  },
  {
   "cell_type": "code",
   "execution_count": 295,
   "metadata": {
    "colab": {
     "base_uri": "https://localhost:8080/",
     "height": 265
    },
    "colab_type": "code",
    "id": "DysgzdV8eLGI",
    "outputId": "61a59830-ae7f-4ace-89ea-391b1268882c"
   },
   "outputs": [
    {
     "data": {
      "image/png": "[encoded data removed]",
      "text/plain": [
       "<Figure size 432x288 with 1 Axes>"
      ]
     },
     "metadata": {
      "needs_background": "light",
      "tags": []
     },
     "output_type": "display_data"
    }
   ],
   "source": [
    "plt.hist(list(map(lambda x: len(x.split()), lines)), bins=100);"
   ]
  },
  {
   "cell_type": "code",
   "execution_count": 0,
   "metadata": {
    "colab": {},
    "colab_type": "code",
    "id": "R1PVxqyxeLGS"
   },
   "outputs": [],
   "source": [
    "line = lines[0]"
   ]
  },
  {
   "cell_type": "code",
   "execution_count": 297,
   "metadata": {
    "colab": {
     "base_uri": "https://localhost:8080/",
     "height": 34
    },
    "colab_type": "code",
    "id": "DSncoUgieLGb",
    "outputId": "ed3c9a6d-dbd0-41f4-b0a6-d89925322e7b"
   },
   "outputs": [
    {
     "data": {
      "text/plain": [
       "'Michael Irvin'"
      ]
     },
     "execution_count": 297,
     "metadata": {
      "tags": []
     },
     "output_type": "execute_result"
    }
   ],
   "source": [
    "line"
   ]
  },
  {
   "cell_type": "code",
   "execution_count": 0,
   "metadata": {
    "colab": {},
    "colab_type": "code",
    "id": "cnT8ERBaN0pX"
   },
   "outputs": [],
   "source": [
    "lines = list(\n",
    "     filter(lambda x: len(x.split()) <= 50,\n",
    "            lines)\n",
    " )"
   ]
  },
  {
   "cell_type": "code",
   "execution_count": 299,
   "metadata": {
    "colab": {
     "base_uri": "https://localhost:8080/",
     "height": 34
    },
    "colab_type": "code",
    "id": "DlZ6oCap-vAG",
    "outputId": "bf301f50-39b6-457b-b4b8-7f2e988ec42f"
   },
   "outputs": [
    {
     "data": {
      "text/plain": [
       "3112"
      ]
     },
     "execution_count": 299,
     "metadata": {
      "tags": []
     },
     "output_type": "execute_result"
    }
   ],
   "source": [
    "len(lines)"
   ]
  },
  {
   "cell_type": "code",
   "execution_count": 300,
   "metadata": {
    "colab": {
     "base_uri": "https://localhost:8080/",
     "height": 34
    },
    "colab_type": "code",
    "id": "G3r7n5RyeLGr",
    "outputId": "534035e0-1bc0-4f9a-8d3b-41034a25805c"
   },
   "outputs": [
    {
     "data": {
      "text/plain": [
       "<torch._C.Generator at 0x7f161f8f4090>"
      ]
     },
     "execution_count": 300,
     "metadata": {
      "tags": []
     },
     "output_type": "execute_result"
    }
   ],
   "source": [
    "np.random.seed(777)\n",
    "torch.manual_seed(777)"
   ]
  },
  {
   "cell_type": "code",
   "execution_count": 0,
   "metadata": {
    "colab": {},
    "colab_type": "code",
    "id": "zF8hZWvlN4xS"
   },
   "outputs": [],
   "source": [
    "class Vocabulary:\n",
    "    def __init__(self, sentences):\n",
    "        all_characters = set()\n",
    "        for line in sentences:\n",
    "            all_characters |= set(line)\n",
    "        all_characters = list(sorted(all_characters))+['<eos>', '<go>']\n",
    "        self.char_to_id = {\n",
    "            x[1]:x[0]\n",
    "            for x in enumerate(all_characters)\n",
    "        }\n",
    "        self.id_to_char = {\n",
    "            x[0]:x[1]\n",
    "            for x in enumerate(all_characters)\n",
    "        }\n",
    "        self.size = len(all_characters)\n",
    "\n",
    "    def encode(self, line):\n",
    "        return [self.char_to_id[x] for x in line]\n",
    "    \n",
    "    def decode(self, tokens):\n",
    "        return ''.join([self.id_to_char[x] for x in tokens])"
   ]
  },
  {
   "cell_type": "code",
   "execution_count": 0,
   "metadata": {
    "colab": {},
    "colab_type": "code",
    "id": "QQ248dEF_RmJ"
   },
   "outputs": [],
   "source": [
    "class VocabForWords:\n",
    "    def __init__(self, sentences):\n",
    "        all_words = set()\n",
    "        for line in sentences:\n",
    "            all_words |= set(line.split())\n",
    "        all_words = list(all_words)+['<eos>', '<go>']\n",
    "        self.char_to_id = {\n",
    "            x[1]:x[0]\n",
    "            for x in enumerate(all_words)\n",
    "        }\n",
    "        self.id_to_char = {\n",
    "            x[0]:x[1]\n",
    "            for x in enumerate(all_words)\n",
    "        }\n",
    "        self.size = len(all_words)\n",
    "\n",
    "    def encode(self, line):\n",
    "        return [self.char_to_id[x] for x in line.split()]\n",
    "    \n",
    "    def decode(self, tokens):\n",
    "        out = ''\n",
    "        for i in range(len(tokens) - 1):\n",
    "            out += self.id_to_char[tokens[i]]\n",
    "            out += ' '\n",
    "        out += self.id_to_char[tokens[len(tokens) - 1]]\n",
    "        return out"
   ]
  },
  {
   "cell_type": "code",
   "execution_count": 0,
   "metadata": {
    "colab": {},
    "colab_type": "code",
    "id": "f7LiAZBveLG8"
   },
   "outputs": [],
   "source": [
    "vocab = Vocabulary(lines)"
   ]
  },
  {
   "cell_type": "code",
   "execution_count": 304,
   "metadata": {
    "colab": {
     "base_uri": "https://localhost:8080/",
     "height": 34
    },
    "colab_type": "code",
    "id": "YQluF-h6N98l",
    "outputId": "bb7dc745-fee7-4a4f-c6ce-9535815836b3"
   },
   "outputs": [
    {
     "data": {
      "text/plain": [
       "'Michael Irvin'"
      ]
     },
     "execution_count": 304,
     "metadata": {
      "tags": []
     },
     "output_type": "execute_result"
    }
   ],
   "source": [
    "lines[0]"
   ]
  },
  {
   "cell_type": "code",
   "execution_count": 305,
   "metadata": {
    "colab": {
     "base_uri": "https://localhost:8080/",
     "height": 34
    },
    "colab_type": "code",
    "id": "aq8xW5vtBZ-a",
    "outputId": "dbeebe5e-0423-4af1-d8d6-9aa9563e8c62"
   },
   "outputs": [
    {
     "data": {
      "text/plain": [
       "79"
      ]
     },
     "execution_count": 305,
     "metadata": {
      "tags": []
     },
     "output_type": "execute_result"
    }
   ],
   "source": [
    "len(vocab.char_to_id)"
   ]
  },
  {
   "cell_type": "code",
   "execution_count": 306,
   "metadata": {
    "colab": {
     "base_uri": "https://localhost:8080/",
     "height": 34
    },
    "colab_type": "code",
    "id": "Io6HOzIMODGg",
    "outputId": "2fe7682a-a3d3-4ca9-f01c-d472c453570f"
   },
   "outputs": [
    {
     "data": {
      "text/plain": [
       "[18, 40, 34, 39, 32, 36, 43, 0, 14, 49, 53, 40, 45]"
      ]
     },
     "execution_count": 306,
     "metadata": {
      "tags": []
     },
     "output_type": "execute_result"
    }
   ],
   "source": [
    "d = vocab.encode(lines[0])\n",
    "d"
   ]
  },
  {
   "cell_type": "code",
   "execution_count": 307,
   "metadata": {
    "colab": {
     "base_uri": "https://localhost:8080/",
     "height": 34
    },
    "colab_type": "code",
    "id": "qrtsSzHK_CCy",
    "outputId": "c0c46013-f9fd-4a31-d296-36a21e256648"
   },
   "outputs": [
    {
     "data": {
      "text/plain": [
       "'Michael Irvin'"
      ]
     },
     "execution_count": 307,
     "metadata": {
      "tags": []
     },
     "output_type": "execute_result"
    }
   ],
   "source": [
    "vocab.decode(d)"
   ]
  },
  {
   "cell_type": "code",
   "execution_count": 0,
   "metadata": {
    "colab": {},
    "colab_type": "code",
    "id": "Eanx2ydZeLHD"
   },
   "outputs": [],
   "source": [
    "assert vocab.decode(vocab.encode(lines[0])) == lines[0]"
   ]
  },
  {
   "cell_type": "code",
   "execution_count": 0,
   "metadata": {
    "colab": {},
    "colab_type": "code",
    "id": "EUPyzunReLHL"
   },
   "outputs": [],
   "source": [
    "class Quotes(Dataset):\n",
    "    def __init__(self, sentences, vocab):\n",
    "        # Construct vocabulary + EOS & GO tokens\n",
    "        self.sentences = sentences\n",
    "        self.vocab = vocab\n",
    "        self.go = self.vocab.char_to_id['<go>']\n",
    "        self.eos = self.vocab.char_to_id['<eos>']\n",
    "\n",
    "    def __len__(self):\n",
    "        return len(self.sentences)\n",
    "\n",
    "    def __getitem__(self, idx):\n",
    "        tokens = self.vocab.encode(self.sentences[idx])\n",
    "        _input = np.array([self.go]+tokens)\n",
    "        _output = np.array(tokens+[self.eos])\n",
    "        return _input, _output"
   ]
  },
  {
   "cell_type": "code",
   "execution_count": 0,
   "metadata": {
    "colab": {},
    "colab_type": "code",
    "id": "7eN9f9ej9iAF"
   },
   "outputs": [],
   "source": [
    "def compose_batch(batch):\n",
    "    lengths = np.array([len(x[0]) for x in batch])\n",
    "    order = np.argsort(-lengths)\n",
    "    go = torch.zeros(len(batch), lengths[order[0]]).long()\n",
    "    eos = torch.zeros(len(batch), lengths[order[0]]).long()\n",
    "    mask = torch.zeros(len(batch), lengths[order[0]]).long()\n",
    "    for i in range(len(batch)):\n",
    "        current_go, current_eos = batch[i]\n",
    "        go[i, :len(current_go)] = torch.tensor(current_go)\n",
    "        eos[i, :len(current_eos)] = torch.tensor(current_eos)\n",
    "        mask[i, :len(current_go)] = 1\n",
    "    mask = mask[order]\n",
    "    go = go[order]\n",
    "    eos = eos[order]\n",
    "    lengths = lengths[order]\n",
    "    return go, eos, mask, lengths"
   ]
  },
  {
   "cell_type": "code",
   "execution_count": 0,
   "metadata": {
    "colab": {},
    "colab_type": "code",
    "id": "j3_qGg2deLHY"
   },
   "outputs": [],
   "source": [
    "dataset = Quotes(lines, vocab)"
   ]
  },
  {
   "cell_type": "code",
   "execution_count": 0,
   "metadata": {
    "colab": {},
    "colab_type": "code",
    "id": "dHCe2enNeLHd"
   },
   "outputs": [],
   "source": [
    "dataloader = DataLoader(\n",
    "    dataset, shuffle=True,\n",
    "    batch_size=64,\n",
    "    collate_fn=compose_batch)"
   ]
  },
  {
   "cell_type": "markdown",
   "metadata": {
    "colab_type": "text",
    "id": "9dYGCGOveLHk"
   },
   "source": [
    "### Часть 2: определение модели"
   ]
  },
  {
   "cell_type": "code",
   "execution_count": 0,
   "metadata": {
    "colab": {},
    "colab_type": "code",
    "id": "YdHY19VAeLHl"
   },
   "outputs": [],
   "source": [
    "class Oracle(nn.Module):\n",
    "    def __init__(self, vocabulary_size,\n",
    "                 embedding_size=128,\n",
    "                 hidden_size=256,\n",
    "                 layers=2):\n",
    "        super(Oracle, self).__init__()\n",
    "        self.embedding_size = embedding_size\n",
    "        self.layers = layers\n",
    "        self.hidden_size = hidden_size\n",
    "        self.embedding = nn.Embedding(\n",
    "            vocabulary_size, embedding_size\n",
    "        )\n",
    "        self.generator = nn.GRU(\n",
    "            embedding_size, hidden_size,\n",
    "            layers, batch_first=False\n",
    "        )\n",
    "        self.classifier = nn.Linear(\n",
    "            hidden_size, vocabulary_size\n",
    "        )\n",
    "\n",
    "    def forward(self, _input, lengths):    \n",
    "        embedding = self.embedding(_input).transpose(0, 1)\n",
    "        embedding = nn.utils.rnn.pack_padded_sequence(\n",
    "            embedding, lengths\n",
    "        )\n",
    "        output, _ = self.generator(embedding)\n",
    "        output, _ = nn.utils.rnn.pad_packed_sequence(output)\n",
    "        classes = self.classifier(output)\n",
    "        return classes\n",
    "\n",
    "    def generate(self, vocab, max_len=100):\n",
    "        h = torch.zeros(self.layers, 1, self.hidden_size)\n",
    "        current_token = '<go>'\n",
    "        line = ''\n",
    "        while (current_token != '<eos>') and \\\n",
    "                len(line) < max_len:\n",
    "            token = torch.tensor([[vocab.char_to_id[current_token]]]).long()\n",
    "            token_id = token.detach()\n",
    "            embedding = self.embedding(token_id)\n",
    "            output, (h) = self.generator(embedding, (h))\n",
    "            classes = self.classifier(output[0])\n",
    "            classes_probs = nn.Softmax()(classes)\n",
    "            sampler = torch.distributions.Categorical(classes_probs[0])\n",
    "            new_token_id = sampler.sample().data.numpy().item()\n",
    "            current_token = vocab.id_to_char[new_token_id]\n",
    "            line = line + current_token\n",
    "        return line"
   ]
  },
  {
   "cell_type": "code",
   "execution_count": 0,
   "metadata": {
    "colab": {},
    "colab_type": "code",
    "id": "xM6hIOrYOKJ2"
   },
   "outputs": [],
   "source": [
    "oracle = Oracle(vocab.size,\n",
    "                embedding_size=32,\n",
    "                hidden_size=64, layers=2)"
   ]
  },
  {
   "cell_type": "markdown",
   "metadata": {
    "colab_type": "text",
    "id": "nN0OPE8AeLHw"
   },
   "source": [
    "### Часть 3: обучение модели"
   ]
  },
  {
   "cell_type": "code",
   "execution_count": 0,
   "metadata": {
    "colab": {},
    "colab_type": "code",
    "id": "N509IXMgeLHz"
   },
   "outputs": [],
   "source": [
    "\"\"\"\n",
    "optimizer = torch.optim.RMSprop(\n",
    "    oracle.parameters(), lr=0.0001, weight_decay=1e-5\n",
    ")\n",
    "\"\"\"\n",
    "\n",
    "optimizer = torch.optim.Adam(oracle.parameters())"
   ]
  },
  {
   "cell_type": "code",
   "execution_count": 0,
   "metadata": {
    "colab": {},
    "colab_type": "code",
    "id": "8IR9Mnh4eLH6"
   },
   "outputs": [],
   "source": [
    "criterion = nn.CrossEntropyLoss(reduction='none')"
   ]
  },
  {
   "cell_type": "code",
   "execution_count": 0,
   "metadata": {
    "colab": {},
    "colab_type": "code",
    "id": "05TlSREArRk0"
   },
   "outputs": [],
   "source": [
    "losses = []"
   ]
  },
  {
   "cell_type": "code",
   "execution_count": 0,
   "metadata": {
    "colab": {},
    "colab_type": "code",
    "id": "izw_W2fgOOdF"
   },
   "outputs": [],
   "source": [
    "def moving_average(a, n=20) :\n",
    "    ret = np.cumsum(a, dtype=float)\n",
    "    ret[n:] = ret[n:] - ret[:-n]\n",
    "    return ret[n - 1:] / n"
   ]
  },
  {
   "cell_type": "code",
   "execution_count": 319,
   "metadata": {
    "colab": {
     "base_uri": "https://localhost:8080/",
     "height": 279
    },
    "colab_type": "code",
    "id": "upwneSK9O5Hn",
    "outputId": "b76a507d-8fa6-4de4-fce9-e9175a9aabea"
   },
   "outputs": [
    {
     "data": {
      "image/png": "[encoded data removed]",
      "text/plain": [
       "<Figure size 432x288 with 1 Axes>"
      ]
     },
     "metadata": {
      "needs_background": "light",
      "tags": []
     },
     "output_type": "display_data"
    }
   ],
   "source": [
    "for epoch in range(100):\n",
    "    #bar = progressbar.ProgressBar()\n",
    "    for i, (go, eos, mask, length) in enumerate(dataloader):  \n",
    "        oracle.zero_grad()\n",
    "        prediction = oracle(\n",
    "            go, length\n",
    "        ).transpose(0, 1).transpose(1, 2)\n",
    "        loss = (criterion(prediction, eos)*mask.float()).sum()\n",
    "        loss = loss / mask.sum()\n",
    "        loss.backward()\n",
    "        [x.grad.clamp_(-1, 1) for x in oracle.parameters()]\n",
    "        optimizer.step()\n",
    "        losses.append(np.exp(loss.item()))\n",
    "        if i % 50 == 0:\n",
    "            clear_output(True)\n",
    "            plt.plot(losses, label='Train')\n",
    "            plt.plot(moving_average(losses), label='MA@20')\n",
    "            plt.xlabel('iteration')\n",
    "            plt.ylabel('perplexity')\n",
    "            plt.legend()\n",
    "            plt.grid()\n",
    "            plt.show()"
   ]
  },
  {
   "cell_type": "code",
   "execution_count": 322,
   "metadata": {
    "colab": {
     "base_uri": "https://localhost:8080/",
     "height": 71
    },
    "colab_type": "code",
    "id": "FIo_AG-HeLIS",
    "outputId": "60f742d7-6723-4c16-a4b8-61a1c10e180b"
   },
   "outputs": [
    {
     "name": "stderr",
     "output_type": "stream",
     "text": [
      "/usr/local/lib/python3.6/dist-packages/ipykernel_launcher.py:41: UserWarning: Implicit dimension choice for softmax has been deprecated. Change the call to include dim=X as an argument.\n"
     ]
    },
    {
     "data": {
      "text/plain": [
       "'Henry North Hamilton<eos>'"
      ]
     },
     "execution_count": 322,
     "metadata": {
      "tags": []
     },
     "output_type": "execute_result"
    }
   ],
   "source": [
    "oracle.generate(vocab)"
   ]
  },
  {
   "cell_type": "code",
   "execution_count": 0,
   "metadata": {
    "colab": {},
    "colab_type": "code",
    "id": "z-H0T2D_rbof"
   },
   "outputs": [],
   "source": [
    "res = oracle.embedding(torch.from_numpy(np.asarray([vocab.char_to_id[\"D\"], vocab.char_to_id[\"a\"], vocab.char_to_id[\"B\"]]))).detach().numpy()"
   ]
  },
  {
   "cell_type": "code",
   "execution_count": 324,
   "metadata": {
    "colab": {
     "base_uri": "https://localhost:8080/",
     "height": 34
    },
    "colab_type": "code",
    "id": "vNy2EO7rr54V",
    "outputId": "51e3b398-037e-4e6a-a4d1-91442ebef5f2"
   },
   "outputs": [
    {
     "data": {
      "text/plain": [
       "(3, 32)"
      ]
     },
     "execution_count": 324,
     "metadata": {
      "tags": []
     },
     "output_type": "execute_result"
    }
   ],
   "source": [
    "res.shape"
   ]
  },
  {
   "cell_type": "code",
   "execution_count": 0,
   "metadata": {
    "colab": {},
    "colab_type": "code",
    "id": "Ynyqd6KCsAbv"
   },
   "outputs": [],
   "source": [
    "res = res / np.sqrt((res**2).sum(-1))[:, np.newaxis]"
   ]
  },
  {
   "cell_type": "code",
   "execution_count": 326,
   "metadata": {
    "colab": {
     "base_uri": "https://localhost:8080/",
     "height": 68
    },
    "colab_type": "code",
    "id": "HCXsGD14r1tk",
    "outputId": "7ff97626-31cb-41ef-d7c1-20c08a268e21"
   },
   "outputs": [
    {
     "data": {
      "text/plain": [
       "array([[0.9999999 , 0.03476154, 0.22607476],\n",
       "       [0.03476154, 1.0000002 , 0.05773336],\n",
       "       [0.22607476, 0.05773336, 1.        ]], dtype=float32)"
      ]
     },
     "execution_count": 326,
     "metadata": {
      "tags": []
     },
     "output_type": "execute_result"
    }
   ],
   "source": [
    "(res @ res.T)"
   ]
  },
  {
   "cell_type": "markdown",
   "metadata": {
    "colab_type": "text",
    "id": "M1TJlolmeLIZ"
   },
   "source": [
    "### Часть 4: оценивание модели"
   ]
  },
  {
   "cell_type": "markdown",
   "metadata": {
    "colab_type": "text",
    "id": "bs8uRoRXeLIa"
   },
   "source": [
    "<i> Приведите примеры сгенерированных предложений </i>"
   ]
  },
  {
   "cell_type": "code",
   "execution_count": 327,
   "metadata": {
    "colab": {
     "base_uri": "https://localhost:8080/",
     "height": 282
    },
    "colab_type": "code",
    "id": "NqZg8bbOeLIb",
    "outputId": "b26e6973-5786-4689-92c0-61009044d15c"
   },
   "outputs": [
    {
     "data": {
      "text/plain": [
       "[<matplotlib.lines.Line2D at 0x7f15ca981dd8>]"
      ]
     },
     "execution_count": 327,
     "metadata": {
      "tags": []
     },
     "output_type": "execute_result"
    },
    {
     "data": {
      "image/png": "[encoded data removed]",
      "text/plain": [
       "<Figure size 432x288 with 1 Axes>"
      ]
     },
     "metadata": {
      "needs_background": "light",
      "tags": []
     },
     "output_type": "display_data"
    }
   ],
   "source": [
    "plt.plot(losses)"
   ]
  },
  {
   "cell_type": "markdown",
   "metadata": {
    "colab_type": "text",
    "id": "NOJlfZG6eLIh"
   },
   "source": [
    "## HW 1 (3 балла)\n",
    "1. Обучить сеть с LSTM вместо GRU\n",
    "2. Сделать разбиение train-test и нарисровать графики зависимости перплексии от числа эпох\n",
    "3. Подобрать гиперпараметры, добиться лучшей перплексии чем с параметрами по умолчанию"
   ]
  },
  {
   "cell_type": "markdown",
   "metadata": {
    "colab_type": "text",
    "id": "nh4OFhUJoGmq"
   },
   "source": [
    "## 1. Oracle с LSTM"
   ]
  },
  {
   "cell_type": "code",
   "execution_count": 0,
   "metadata": {
    "colab": {},
    "colab_type": "code",
    "id": "Iiov8RMzeLIi"
   },
   "outputs": [],
   "source": [
    "class LSTMOracle(nn.Module):\n",
    "    def __init__(self, vocabulary_size,\n",
    "                 embedding_size=128,\n",
    "                 hidden_size=256,\n",
    "                 layers=2):\n",
    "        super(Oracle, self).__init__()\n",
    "        self.embedding_size = embedding_size\n",
    "        self.layers = layers\n",
    "        self.hidden_size = hidden_size\n",
    "        self.embedding = nn.Embedding(\n",
    "            vocabulary_size, embedding_size\n",
    "        )\n",
    "        self.generator = nn.LSTM(\n",
    "            embedding_size, hidden_size,\n",
    "            layers, batch_first=False\n",
    "        )\n",
    "        self.classifier = nn.Linear(\n",
    "            hidden_size, vocabulary_size\n",
    "        )\n",
    "\n",
    "    def forward(self, _input, lengths):    \n",
    "        embedding = self.embedding(_input).transpose(0, 1)\n",
    "        embedding = nn.utils.rnn.pack_padded_sequence(\n",
    "            embedding, lengths\n",
    "        )\n",
    "        output, _ = self.generator(embedding)\n",
    "        output, _ = nn.utils.rnn.pad_packed_sequence(output)\n",
    "        classes = self.classifier(output)\n",
    "        return classes\n",
    "\n",
    "    def generate(self, vocab, max_len=100):\n",
    "        h = torch.zeros(self.layers, 1, self.hidden_size)\n",
    "        current_token = '<go>'\n",
    "        line = ''\n",
    "        while (current_token != '<eos>') and \\\n",
    "                len(line) < max_len:\n",
    "            token = torch.tensor([[vocab.char_to_id[current_token]]]).long()\n",
    "            token_id = token.detach()\n",
    "            embedding = self.embedding(token_id)\n",
    "            output, (h) = self.generator(embedding, (h))\n",
    "            classes = self.classifier(output[0])\n",
    "            classes_probs = nn.Softmax()(classes)\n",
    "            sampler = torch.distributions.Categorical(classes_probs[0])\n",
    "            new_token_id = sampler.sample().data.numpy().item()\n",
    "            current_token = vocab.id_to_char[new_token_id]\n",
    "            line = line + current_token\n",
    "        return line"
   ]
  },
  {
   "cell_type": "code",
   "execution_count": 0,
   "metadata": {
    "colab": {},
    "colab_type": "code",
    "id": "lH8iiH1Hfa-c"
   },
   "outputs": [],
   "source": [
    "oracle = Oracle(vocab.size,\n",
    "                embedding_size=64,\n",
    "                hidden_size=128, layers=2)"
   ]
  },
  {
   "cell_type": "markdown",
   "metadata": {
    "colab_type": "text",
    "id": "k3bta0RxoQ30"
   },
   "source": [
    "## 2. Разделение на train-test"
   ]
  },
  {
   "cell_type": "code",
   "execution_count": 0,
   "metadata": {
    "colab": {},
    "colab_type": "code",
    "id": "zBJTljiukAA2"
   },
   "outputs": [],
   "source": [
    "lines = [\n",
    "    x.split('\\t')[0].strip() ##!!!!!\n",
    "    for x in open('author-quote.txt').readlines()\n",
    "]\n",
    "lines = list(set(lines))\n",
    "trainlines = lines[:2 * (len(lines) // 3)]\n",
    "testlines = lines[2 * (len(lines) // 3):]\n",
    "vocab = Vocabulary(lines)\n",
    "traindataset = Quotes(trainlines, vocab)\n",
    "testdataset = Quotes(testlines, vocab)"
   ]
  },
  {
   "cell_type": "code",
   "execution_count": 0,
   "metadata": {
    "colab": {},
    "colab_type": "code",
    "id": "aGBCRcqjvZAB"
   },
   "outputs": [],
   "source": [
    "traindataloader = DataLoader(\n",
    "            traindataset, shuffle=True,\n",
    "            batch_size=64,\n",
    "            collate_fn=compose_batch)\n",
    "testdataloader = DataLoader(\n",
    "            testdataset, shuffle=True,\n",
    "            batch_size=64,\n",
    "            collate_fn=compose_batch)"
   ]
  },
  {
   "cell_type": "markdown",
   "metadata": {
    "colab_type": "text",
    "id": "iZ6wAegJwe7a"
   },
   "source": [
    "## 3. Обучение + подбор параметров"
   ]
  },
  {
   "cell_type": "code",
   "execution_count": 0,
   "metadata": {
    "colab": {},
    "colab_type": "code",
    "id": "E3vhy1b-fePG"
   },
   "outputs": [],
   "source": [
    "optimizer = torch.optim.Adam(oracle.parameters())\n",
    "criterion = nn.CrossEntropyLoss(reduction='none')\n",
    "losses = []\n",
    "test_losses = []"
   ]
  },
  {
   "cell_type": "code",
   "execution_count": 373,
   "metadata": {
    "colab": {
     "base_uri": "https://localhost:8080/",
     "height": 279
    },
    "colab_type": "code",
    "id": "FBeGs05pfwom",
    "outputId": "a5bfc9b9-da94-4e4b-97f6-d5192dd78d90"
   },
   "outputs": [
    {
     "data": {
      "image/png": "[encoded data removed]",
      "text/plain": [
       "<Figure size 432x288 with 1 Axes>"
      ]
     },
     "metadata": {
      "needs_background": "light",
      "tags": []
     },
     "output_type": "display_data"
    }
   ],
   "source": [
    "for epoch in range(20):\n",
    "    #bar = progressbar.ProgressBar()\n",
    "    cur_losses = []\n",
    "    for i, (go, eos, mask, length) in enumerate(traindataloader):  \n",
    "        oracle.zero_grad()\n",
    "        prediction = oracle(\n",
    "            go, length\n",
    "        ).transpose(0, 1).transpose(1, 2)\n",
    "        loss = (criterion(prediction, eos)*mask.float()).sum()\n",
    "        loss = loss / mask.sum()\n",
    "        loss.backward()\n",
    "        [x.grad.clamp_(-1, 1) for x in oracle.parameters()]\n",
    "        optimizer.step()\n",
    "        cur_losses.append(np.exp(loss.item()))\n",
    "    losses.append(np.mean(cur_losses))\n",
    "    cur_losses = []\n",
    "    for i, (go, eos, mask, length) in enumerate(testdataloader):\n",
    "        oracle.zero_grad()\n",
    "        prediction = oracle(\n",
    "            go, length\n",
    "        ).transpose(0, 1).transpose(1, 2)\n",
    "        loss = (criterion(prediction, eos)*mask.float()).sum()\n",
    "        loss = loss / mask.sum()\n",
    "        cur_losses.append(np.exp(loss.item()))\n",
    "    test_losses.append(np.mean(cur_losses))\n",
    "\n",
    "    clear_output(True)\n",
    "    plt.plot(losses, label='Train')\n",
    "    plt.plot(test_losses, label='Test')\n",
    "    plt.xlabel('epoch')\n",
    "    plt.ylabel('perplexity')\n",
    "    plt.legend()\n",
    "    plt.grid()\n",
    "    plt.show()"
   ]
  },
  {
   "cell_type": "code",
   "execution_count": 374,
   "metadata": {
    "colab": {
     "base_uri": "https://localhost:8080/",
     "height": 34
    },
    "colab_type": "code",
    "id": "9DUGO6FNzTFA",
    "outputId": "832c526e-af00-4f5f-a042-76ef3a49e62f"
   },
   "outputs": [
    {
     "data": {
      "text/plain": [
       "7.077896622161971"
      ]
     },
     "execution_count": 374,
     "metadata": {
      "tags": []
     },
     "output_type": "execute_result"
    }
   ],
   "source": [
    "test_losses[-1]"
   ]
  },
  {
   "cell_type": "code",
   "execution_count": 398,
   "metadata": {
    "colab": {
     "base_uri": "https://localhost:8080/",
     "height": 71
    },
    "colab_type": "code",
    "id": "F1mSOhRChCLj",
    "outputId": "951b0c49-3231-45d2-bda0-46bf141816be"
   },
   "outputs": [
    {
     "name": "stderr",
     "output_type": "stream",
     "text": [
      "/usr/local/lib/python3.6/dist-packages/ipykernel_launcher.py:41: UserWarning: Implicit dimension choice for softmax has been deprecated. Change the call to include dim=X as an argument.\n"
     ]
    },
    {
     "data": {
      "text/plain": [
       "'David Cooke<eos>'"
      ]
     },
     "execution_count": 398,
     "metadata": {
      "tags": []
     },
     "output_type": "execute_result"
    }
   ],
   "source": [
    "oracle.generate(vocab)"
   ]
  },
  {
   "cell_type": "markdown",
   "metadata": {
    "colab_type": "text",
    "id": "Ue9CUYq-0ZxV"
   },
   "source": [
    "Таким образом, увеличив размер ембеддинга и hidden_size вдвое, получили перплексию 7 (с параметрами до умолчанию было 9)."
   ]
  },
  {
   "cell_type": "markdown",
   "metadata": {
    "colab_type": "text",
    "id": "81RmEOmmeLIo"
   },
   "source": [
    "#### Feedback (опционально)"
   ]
  },
  {
   "cell_type": "markdown",
   "metadata": {
    "colab_type": "text",
    "id": "CqeU21CSeLIp"
   },
   "source": [
    "Здесь вы можете оставить список опечаток из лекции или семинара:"
   ]
  },
  {
   "cell_type": "markdown",
   "metadata": {
    "colab_type": "raw",
    "id": "58wu7RTmeLIq"
   },
   "source": []
  },
  {
   "cell_type": "markdown",
   "metadata": {
    "colab_type": "text",
    "id": "giSGiSv7eLIq"
   },
   "source": [
    "Здесь вы можете оставить комментарии по лекции или семинару:"
   ]
  },
  {
   "cell_type": "markdown",
   "metadata": {
    "colab_type": "raw",
    "id": "J59JPUFMeLIr"
   },
   "source": []
  }
 ],
 "metadata": {
  "accelerator": "GPU",
  "colab": {
   "collapsed_sections": [],
   "name": "Practice task 10, NLP.ipynb",
   "provenance": [],
   "toc_visible": true
  },
  "kernelspec": {
   "display_name": "Python 3",
   "language": "python",
   "name": "python3"
  },
  "language_info": {
   "codemirror_mode": {
    "name": "ipython",
    "version": 3
   },
   "file_extension": ".py",
   "mimetype": "text/x-python",
   "name": "python",
   "nbconvert_exporter": "python",
   "pygments_lexer": "ipython3",
   "version": "3.7.9"
  },
  "latex_envs": {
   "bibliofile": "biblio.bib",
   "cite_by": "apalike",
   "current_citInitial": 1,
   "eqLabelWithNumbers": true,
   "eqNumInitial": 0
  }
 },
 "nbformat": 4,
 "nbformat_minor": 1
}
