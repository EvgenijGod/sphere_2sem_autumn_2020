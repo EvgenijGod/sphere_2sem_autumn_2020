{
 "cells": [
  {
   "cell_type": "markdown",
   "metadata": {
    "id": "d_WOVJ6rq6v0"
   },
   "source": [
    "# Косарев Евгений"
   ]
  },
  {
   "cell_type": "markdown",
   "metadata": {
    "id": "vBS8CczJq6v2"
   },
   "source": [
    "Построить графики распределения в спам и не спам множествах следующих признаков:\n",
    "\n",
    "1)\tКоличество слов на странице\n",
    "\n",
    "2)\tСредняя длинна слова\n",
    "\n",
    "3)\tКоличество слов в заголовке страниц (слова в теге <html><head><title> Some text </title>)\n",
    "\n",
    "4)\tКоличество слов в анкорах ссылок (<html><body><a> Some text </a>)\n",
    "\n",
    "5)\tКоэффициент сжатия\n",
    "\n",
    "Нужно посчитать статистику минимум по трем признакам и обязательно сделать для 1-го и 2-го признаков\n",
    "\n",
    "И отправить первое решение в соревнование https://kaggle.com/join/antispam_infopoisk\n",
    "На основании одного из указанных выше признаков попытаться разделить мн-во, так чтобы score в соревновании был больше 0.55\n",
    "\n",
    "При выполнении всех этих условия в течении семинара +1 балл к ДЗ\n",
    "\n",
    "Описание ДЗ и правил выставления за него баллов в https://inclass.kaggle.com/c/antispam-infopoisk  \n",
    "Сроки ДЗ уточнить у преподователя - обычно 2 недели"
   ]
  },
  {
   "cell_type": "code",
   "execution_count": null,
   "metadata": {
    "id": "BuGzKtKpq8FY"
   },
   "outputs": [],
   "source": []
  },
  {
   "cell_type": "code",
   "execution_count": 6,
   "metadata": {
    "colab": {
     "base_uri": "https://localhost:8080/",
     "height": 34
    },
    "id": "N4DTsGtb4Gag",
    "outputId": "9910d7c1-24c4-4633-80fe-9219ea091ac5"
   },
   "outputs": [
    {
     "name": "stdout",
     "output_type": "stream",
     "text": [
      "Drive already mounted at /content/drive; to attempt to forcibly remount, call drive.mount(\"/content/drive\", force_remount=True).\n"
     ]
    }
   ],
   "source": [
    "from google.colab import drive\n",
    "drive.mount('/content/drive')"
   ]
  },
  {
   "cell_type": "code",
   "execution_count": 9,
   "metadata": {
    "id": "y3n_RKGVq6v3"
   },
   "outputs": [],
   "source": [
    "import base64\n",
    "import gzip\n",
    "import zlib\n",
    "\n",
    "from collections import namedtuple\n",
    "\n",
    "from importlib import reload\n",
    "\n",
    "%matplotlib inline\n",
    "import matplotlib.pyplot as plt"
   ]
  },
  {
   "cell_type": "code",
   "execution_count": 10,
   "metadata": {
    "colab": {
     "base_uri": "https://localhost:8080/",
     "height": 34
    },
    "id": "KdkjT4j0q6v9",
    "outputId": "03b28f6b-0f6d-4d3c-fffa-23127ce144f1"
   },
   "outputs": [
    {
     "data": {
      "text/plain": [
       "int"
      ]
     },
     "execution_count": 10,
     "metadata": {},
     "output_type": "execute_result"
    }
   ],
   "source": [
    "type(1) "
   ]
  },
  {
   "cell_type": "code",
   "execution_count": 11,
   "metadata": {
    "id": "N6PnLAJ9q6wD"
   },
   "outputs": [],
   "source": [
    "TRACE_NUM = 1000\n",
    "import logging\n",
    "reload(logging)\n",
    "logging.basicConfig(format='%(asctime)s %(levelname)s:%(message)s', level=logging.INFO, datefmt='%H:%M:%S')\n",
    "\n",
    "def trace(items_num, trace_num=TRACE_NUM):\n",
    "    if items_num % trace_num == 0: logging.info(\"Complete items {}\".format(items_num))\n",
    "        \n",
    "def trace_worker(items_num, worker_id, trace_num=TRACE_NUM):\n",
    "    if type(items_num) != int or type(trace_num) != int:\n",
    "        pass\n",
    "    worker_id = int(worker_id)\n",
    "    if items_num % trace_num == 0: \n",
    "        logging.info(\"Complete items {} in worker_id {}\".format(str(items_num), str(worker_id)))"
   ]
  },
  {
   "cell_type": "markdown",
   "metadata": {
    "id": "trzuqBTHq6wG"
   },
   "source": [
    "### Утилиты"
   ]
  },
  {
   "cell_type": "markdown",
   "metadata": {
    "id": "9Q6uUWkaq6wH"
   },
   "source": [
    "#### Декораторы"
   ]
  },
  {
   "cell_type": "code",
   "execution_count": 12,
   "metadata": {
    "id": "vhbOH3nLq6wH"
   },
   "outputs": [],
   "source": [
    "def to_utf8(text):\n",
    "    if isinstance(text, str): text = text.encode('utf8')\n",
    "    return text\n",
    "\n",
    "def convert2lower(f):\n",
    "    def tmp(text):        \n",
    "        return f(text.lower())\n",
    "    return tmp\n",
    "\n",
    "#P.S. Декораторы могут усложнять отладку, так что от них вполне можно отказаться и воспользоваться copy-paste"
   ]
  },
  {
   "cell_type": "markdown",
   "metadata": {
    "id": "cl5zpPw9q6wK"
   },
   "source": [
    "### Извлечение текста из html"
   ]
  },
  {
   "cell_type": "markdown",
   "metadata": {
    "id": "PBxWYck9q6wL"
   },
   "source": [
    "#### Извлечение текста при помощи встроенных модулей"
   ]
  },
  {
   "cell_type": "code",
   "execution_count": 13,
   "metadata": {
    "id": "qAtV7OjSq6wL"
   },
   "outputs": [],
   "source": [
    "from html.parser import HTMLParser\n",
    "import re\n",
    "\n",
    "###Извлечение текста из title можно вписать сюда\n",
    "\n",
    "class TextHTMLParser(HTMLParser):\n",
    "    def __init__(self):\n",
    "        HTMLParser.__init__(self)\n",
    "        self._text = []\n",
    "        self._title = []\n",
    "        self._link = []\n",
    "        self._in_title = False\n",
    "        self._in_link = False\n",
    "        self.script_cnt = 0\n",
    "\n",
    "    def handle_data(self, data):\n",
    "        text = data.strip()\n",
    "        if len(text) > 0:\n",
    "            text = re.sub('[ \\t\\r\\n]+', ' ', text)\n",
    "            if self._in_title:\n",
    "                self._title.append(text + ' ')\n",
    "            if self._in_link:\n",
    "                self._link.append(text + ' ')\n",
    "            self._text.append(text + ' ')\n",
    "\n",
    "    def handle_starttag(self, tag, attrs):\n",
    "        if tag == 'p':\n",
    "            self._text.append('\\n\\n')\n",
    "        elif tag == 'br':\n",
    "            self._text.append('\\n')\n",
    "        elif tag == 'title':\n",
    "            self._in_title = True\n",
    "        elif tag == 'a':\n",
    "            self._in_link = True\n",
    "        elif tag == 'script':\n",
    "            self.script_cnt +=1\n",
    "            \n",
    "    def handle_endtag(self, tag):\n",
    "        if tag == 'title':\n",
    "            self._in_title = False\n",
    "        elif tag == 'a':\n",
    "            self._in_link = False\n",
    "\n",
    "    def handle_startendtag(self, tag, attrs):\n",
    "        if tag == 'br':\n",
    "            self._text.append('\\n\\n')\n",
    "\n",
    "    def text(self):\n",
    "        return ''.join(self._text).strip()\n",
    "    \n",
    "    def title(self):\n",
    "        return ''.join(self._title).strip()\n",
    "    \n",
    "    def link(self):\n",
    "        return ''.join(self._link).strip()\n",
    "    \n",
    "    def script(self):\n",
    "        return self.script_cnt"
   ]
  },
  {
   "cell_type": "code",
   "execution_count": 118,
   "metadata": {},
   "outputs": [],
   "source": [
    "def html2text_parser(text):\n",
    "    parser = TextHTMLParser()\n",
    "    parser.feed(str(text))\n",
    "    return parser.text(), parser.title(), parser.link(), parser.script()"
   ]
  },
  {
   "cell_type": "markdown",
   "metadata": {
    "id": "UdupHj4mq6wO"
   },
   "source": [
    "#### Извлечение текста при помощи дополнительных библиотек"
   ]
  },
  {
   "cell_type": "code",
   "execution_count": 14,
   "metadata": {
    "id": "2KdjDBmIq6wP"
   },
   "outputs": [],
   "source": [
    "def html2text_bs(raw_html):\n",
    "    from bs4 import BeautifulSoup\n",
    "    \"\"\"\n",
    "    Тут производится извлечения из html текста\n",
    "    \"\"\"\n",
    "    soup = BeautifulSoup(raw_html, \"html.parser\")\n",
    "    [s.extract() for s in soup(['script', 'style'])]\n",
    "    return soup.get_text()\n",
    "\n",
    "def html2text_bs_visible(raw_html):\n",
    "    from bs4 import BeautifulSoup\n",
    "    \"\"\"\n",
    "    Тут производится извлечения из html текста, который видим пользователю\n",
    "    \"\"\"\n",
    "    soup = BeautifulSoup(raw_html, \"html.parser\")    \n",
    "    [s.extract() for s in soup(['style', 'script', '[document]', 'head', 'title'])]\n",
    "    return soup.get_text()\n",
    "\n",
    "def html2text_boilerpipe(raw_html):\n",
    "    import boilerpipe\n",
    "    \"\"\"\n",
    "    еще одна библиотека очень хорошо извлекающая именно видимый пользователю текст,\n",
    "    но она завязана на java\n",
    "    \"\"\"\n",
    "    pass"
   ]
  },
  {
   "cell_type": "markdown",
   "metadata": {
    "id": "Y2ci1JtGq6wV"
   },
   "source": [
    "#### Методы для токенизации текста"
   ]
  },
  {
   "cell_type": "code",
   "execution_count": 16,
   "metadata": {
    "id": "38LngXyXq6wW"
   },
   "outputs": [],
   "source": [
    "@convert2lower\n",
    "def easy_tokenizer(text):\n",
    "    word = ''\n",
    "    for symbol in text:\n",
    "        if symbol.isalnum(): word += symbol\n",
    "        elif word:\n",
    "            yield word\n",
    "            word = ''\n",
    "    if word: yield word\n",
    "\n",
    "PYMORPHY_CACHE = {}\n",
    "MORPH = None\n",
    "#hint, чтобы установка pymorphy2 не была бы обязательной\n",
    "def get_lemmatizer():\n",
    "    import pymorphy2\n",
    "    global MORPH\n",
    "    if MORPH is None: MORPH = pymorphy2.MorphAnalyzer()\n",
    "    return MORPH\n",
    "\n",
    "@convert2lower\n",
    "def pymorphy_tokenizer(text):\n",
    "    global PYMORPHY_CACHE\n",
    "    for word in easy_tokenizer(text):\n",
    "        word_hash = hash(word)\n",
    "        if word_hash not in PYMORPHY_CACHE:\n",
    "            PYMORPHY_CACHE[word_hash] = get_lemmatizer().parse(word)[0].normal_form            \n",
    "        yield PYMORPHY_CACHE[word_hash]"
   ]
  },
  {
   "cell_type": "markdown",
   "metadata": {
    "id": "1levL3tpq6wY"
   },
   "source": [
    "#### Основная функция, которая вызывается для преобразования html в список слов"
   ]
  },
  {
   "cell_type": "markdown",
   "metadata": {
    "id": "3ZWUaodTq6wb"
   },
   "source": [
    "#### Рассчет финальных метрик"
   ]
  },
  {
   "cell_type": "code",
   "execution_count": 119,
   "metadata": {
    "id": "U8H0te5qq6wf"
   },
   "outputs": [],
   "source": [
    "def calc_features(url, html_data):\n",
    "    text, title, link, scripts = html2text_parser(html_data)\n",
    "    tmp = []\n",
    "    \n",
    "    tmp.append(tokenizer(text.lower()))\n",
    "    tmp.append(tokenizer(title.lower()))\n",
    "    tmp.append(tokenizer(link.lower()))\n",
    "    tmp.append(scripts)\n",
    "    \n",
    "    script = tmp[-1]\n",
    "    words, title, link = map(list, tmp[:-1])\n",
    "    \n",
    "    word_len_mean = 0.\n",
    "    for el in words:\n",
    "        avg_word_len += len(word)\n",
    "    avg_word_len /= len(words)\n",
    "    utf_made = to_utf8(html_data)\n",
    "    comressed = zlib.compress(utf_made)\n",
    "    compress_coef = len(comressed)/len(html_data)\n",
    "    \n",
    "    return [len(words), word_len_mean, len(title), len(link), script, compress_coef, tmp[0]]"
   ]
  },
  {
   "cell_type": "code",
   "execution_count": 23,
   "metadata": {
    "colab": {
     "base_uri": "https://localhost:8080/",
     "height": 330
    },
    "id": "8Eubl7ipq6wh",
    "outputId": "381106f2-5507-4a5c-b35c-efdca43f2d5f"
   },
   "outputs": [
    {
     "name": "stdout",
     "output_type": "stream",
     "text": [
      "Заголовок Ololo спам 1 2 3 Текст ссылки Текст ссылки 1\n"
     ]
    }
   ],
   "source": [
    "test_html_data = u'''\n",
    "<html>\n",
    "<title> Заголовок Ololo </title>\n",
    "спам 1 2 3\n",
    "<body> <a>Текст ссылки </a> \n",
    "<a>Текст ссылки 1 </a> \n",
    "</body>\n",
    "</html>\n",
    "'''\n",
    "test_url = 'http://ololo'\n",
    "test_features = calc_features(test_url, test_html_data)\n",
    "print (test_features[6])"
   ]
  },
  {
   "cell_type": "code",
   "execution_count": 24,
   "metadata": {
    "colab": {
     "base_uri": "https://localhost:8080/",
     "height": 34
    },
    "id": "MSuuYTFGq6wj",
    "outputId": "3d069f68-d068-4f54-e66d-f824fdb86886"
   },
   "outputs": [
    {
     "name": "stdout",
     "output_type": "stream",
     "text": [
      "<class 'str'>\n"
     ]
    }
   ],
   "source": [
    "print(type(test_html_data))"
   ]
  },
  {
   "cell_type": "code",
   "execution_count": 26,
   "metadata": {
    "colab": {
     "base_uri": "https://localhost:8080/",
     "height": 229
    },
    "id": "CDubmWoGq6wm",
    "outputId": "1e7c9e93-0bfc-4303-c93f-1dc7b96fa899"
   },
   "outputs": [],
   "source": [
    "from multiprocessing import Process, Queue\n",
    "DocItem = namedtuple('DocItem', ['doc_id', 'is_spam', 'url', 'features'])\n",
    "\n",
    "WORKER_NUM = 10\n",
    "        \n",
    "def load_csv_worker(input_file_name, calc_features_f, worker_id, res_queue):    \n",
    "    with gzip.open(input_file_name) if input_file_name.endswith('gz') else open(input_file_name)  as input_file:            \n",
    "        headers = input_file.readline()\n",
    "\n",
    "        for i, line in enumerate(input_file):\n",
    "            trace_worker(i, worker_id)\n",
    "            if i % WORKER_NUM != worker_id: continue\n",
    "            tmp = line.strip()\n",
    "            parts1 = tmp.decode().split('\\t')\n",
    "            parts = []\n",
    "            for i in parts1:\n",
    "                parts.append(str(i))\n",
    "            #a = parts\n",
    "            url_id = int(parts[0])                                        \n",
    "            mark = bool(int(parts[1]))                    \n",
    "            url = parts[2]\n",
    "            pageInb64 = parts[3]\n",
    "            html_data = base64.b64decode(pageInb64)\n",
    "            features = calc_features_f(url, str(html_data))            \n",
    "            res_queue.put(DocItem(url_id, mark, url, features))\n",
    "                \n",
    "        trace_worker(777, worker_id, 1)\n",
    "    res_queue.put(None)\n",
    "        \n",
    "def load_csv_multiprocess(input_file_name, calc_features_f):\n",
    "    processes = []\n",
    "    res_queue = Queue()    \n",
    "    for i in range(WORKER_NUM):\n",
    "        process = Process(target=load_csv_worker, args=(input_file_name, calc_features_f, i, res_queue))\n",
    "        processes.append(process)\n",
    "        process.start()\n",
    "        \n",
    "    complete_workers = 0\n",
    "    while complete_workers != WORKER_NUM:\n",
    "        item = res_queue.get()\n",
    "        if item is None:\n",
    "            complete_workers += 1\n",
    "        else:\n",
    "            yield item\n",
    "        \n",
    "    for process in processes: process.join()"
   ]
  },
  {
   "cell_type": "markdown",
   "metadata": {
    "id": "6QApufzZq6wo"
   },
   "source": [
    "** Обрабатываем входной файл **\n",
    "<br>\n",
    "Формат - поля разделенные табуляциями\n",
    "<br>\n",
    "0 - идентификатор документа\n",
    "<br>\n",
    "1 - метка класса 0 - не спам, 1 - спам\n",
    "<br>\n",
    "2 - урл документа\n",
    "<br>\n",
    "3 - документ в кодировке base64\n",
    "\n",
    "Выходной формат - массив кортежей вида\n",
    "(doc_id, is_spam, url, html_data)"
   ]
  },
  {
   "cell_type": "markdown",
   "metadata": {},
   "source": [
    "# Код ниже собран в классификатор"
   ]
  },
  {
   "cell_type": "code",
   "execution_count": 117,
   "metadata": {},
   "outputs": [],
   "source": [
    "class Classifier:\n",
    "        \n",
    "    def __init__(self, n_jobs=-1, n_estimators = 450, max_depth = 5, C = 1000):\n",
    "        \n",
    "        from sklearn.linear_model import LogisticRegression\n",
    "        from sklearn.linear_model import LinearRegression\n",
    "        import numpy as np\n",
    "        import pandas as pd\n",
    "        from sklearn.feature_extraction.text import TfidfVectorizer\n",
    "        from nltk.corpus import stopwords\n",
    "        import xgboost as xgb\n",
    "        from sklearn.svm import SVR\n",
    "        import nltk\n",
    "        \n",
    "        nltk.download('stopwords')\n",
    "        stop_words = stopwords.words('russian')\n",
    "        stop_words.extend([u'в',u'так', u'к', u'—', u'с', u'быть', u'вот', u'это', u'как',  u'к', u'на'\\\n",
    "                           u'ж', u'ли', u'а', u'что', ])\n",
    "        \n",
    "        self.train_booster = xgb.XGBClassifier(n_jobs=n_jobs, max_depth=max_depth, n_estimators=n_estimators)\n",
    "        self.train_log_reg = LogisticRegression(C=C, n_jobs=n_jobs)\n",
    "        self.train_svr = SVR()\n",
    "        self.train_vect = TfidfVectorizer(ngram_range=(1,3), min_df=5, stop_words=stop_words)\n",
    "        \n",
    "        self.decision_rule = LinearRegression()\n",
    "        \n",
    "    def convertation(text):\n",
    "        regex = re.compile(u'[^a-zA-Zа-яА-Я]')\n",
    "        return regex.sub(u' ', text)\n",
    "    \n",
    "    def predict(self, test_docs):\n",
    "        ind = len(test_docs[0]) - 1\n",
    "        test_prep = [self.convertation(doc.features[ind].lower()) for doc in test_docs]\n",
    "        X_test_prep = self.train_vect.transform(test_prep)\n",
    "        \n",
    "        train_booster_res = self.train_booster.predict_proba(X_test_prep)\n",
    "        train_log_reg_res = self.train_log_reg.predict_proba(X_test_prep)\n",
    "        train_svr_res = self.train_svr.predict(X_test_prep)\n",
    "        \n",
    "        a = {'Id':[], 'Prediction' :[]}\n",
    "        idx = 0\n",
    "        for doc in test_docs:\n",
    "            a['Id'].append(doc[0])\n",
    "            tmp = 0\n",
    "            pred = self.decision_rule.predict(np.array([train_booster_res[idx][0], train_log_reg_res[idx][0],\\\n",
    "                                                   train_svr_res[idx]]).reshape(1, -1))\n",
    "            if pred > 0.5:\n",
    "                tmp = 1\n",
    "            a['Prediction'].append(tmp)\n",
    "            idx += 1\n",
    "        return pd.DataFrame(a)\n",
    "        \n",
    "    def fit(self, train_docs):\n",
    "        texts_target = [int(doc.is_spam) for doc in train_docs if doc.features != None]\n",
    "        \n",
    "        ind = len(train_docs[0]) - 1\n",
    "        prep_text = [self.convertation(doc.features[6].lower()) for doc in train_docs]\n",
    "        self.train_vect.fit(prep_text)\n",
    "        X_vec_prep = self.train_vect.transform(prep_text)\n",
    "        \n",
    "        self.train_svr.fit(X_vec_prep, texts_target)\n",
    "        self.train_booster.fit(X_vec_prep, texts_target)\n",
    "        self.train_log_reg.fit(X_vec_prep, texts_target)\n",
    "        \n",
    "        train_gb = self.train_booster.predict_proba(X_vec_prep)\n",
    "        train_lr = self.train_log_reg.predict_proba(X_vec_prep)\n",
    "        train_svr = self.train_svr.predict(X_vec_prep)\n",
    "        \n",
    "        X_final = {'1': train_gb[:, 0], \n",
    "           '2': train_lr[:, 0], \n",
    "           '3': train_svr\n",
    "        }\n",
    "        X_final = pd.DataFrame(X_final)\n",
    "        \n",
    "        self.decision_rule.fit(X_final, texts_target)"
   ]
  },
  {
   "cell_type": "code",
   "execution_count": null,
   "metadata": {},
   "outputs": [],
   "source": [
    "my_class = Classifier()\n",
    "my_class.fit(train_docs)\n",
    "res = my_class.predict(test_docs)\n",
    "res"
   ]
  },
  {
   "cell_type": "markdown",
   "metadata": {},
   "source": [
    "# Сам код"
   ]
  },
  {
   "cell_type": "code",
   "execution_count": 29,
   "metadata": {
    "colab": {
     "base_uri": "https://localhost:8080/",
     "height": 404
    },
    "id": "nv6OoTptq6wo",
    "outputId": "15cd83b4-6e7d-4f69-a502-c668e08ff9fe"
   },
   "outputs": [
    {
     "name": "stderr",
     "output_type": "stream",
     "text": [
      "20:42:22 INFO:Complete items 0 in worker_id 1\n",
      "20:42:22 INFO:Complete items 0 in worker_id 0\n",
      "20:42:22 INFO:Complete items 0 in worker_id 2\n",
      "20:42:22 INFO:Complete items 0 in worker_id 3\n",
      "20:42:22 INFO:Complete items 0 in worker_id 4\n",
      "20:42:22 INFO:Complete items 0 in worker_id 5\n",
      "20:42:22 INFO:Complete items 0 in worker_id 6\n",
      "20:42:22 INFO:Complete items 0 in worker_id 7\n",
      "20:42:22 INFO:Complete items 0 in worker_id 8\n",
      "20:42:22 INFO:Complete items 0 in worker_id 9\n",
      "20:42:31 INFO:Complete items 1000 in worker_id 6\n",
      "20:42:31 INFO:Complete items 1000 in worker_id 3\n",
      "20:42:31 INFO:Complete items 1000 in worker_id 5\n",
      "20:42:32 INFO:Complete items 1000 in worker_id 2\n",
      "20:42:32 INFO:Complete items 1000 in worker_id 8\n",
      "20:42:32 INFO:Complete items 1000 in worker_id 4\n",
      "20:42:32 INFO:Complete items 1000 in worker_id 1\n",
      "20:42:33 INFO:Complete items 1000 in worker_id 9\n",
      "20:42:34 INFO:Complete items 1000 in worker_id 0\n",
      "20:42:36 INFO:Complete items 1000 in worker_id 7\n",
      "20:42:39 INFO:Complete items 2000 in worker_id 2\n",
      "20:42:39 INFO:Complete items 2000 in worker_id 5\n",
      "20:42:39 INFO:Complete items 2000 in worker_id 6\n",
      "20:42:39 INFO:Complete items 2000 in worker_id 3\n",
      "20:42:39 INFO:Complete items 2000 in worker_id 8\n",
      "20:42:40 INFO:Complete items 2000 in worker_id 1\n",
      "20:42:40 INFO:Complete items 2000 in worker_id 4\n",
      "20:42:41 INFO:Complete items 2000 in worker_id 9\n",
      "20:42:43 INFO:Complete items 2000 in worker_id 0\n",
      "20:42:43 INFO:Complete items 2000 in worker_id 7\n",
      "20:42:46 INFO:Complete items 3000 in worker_id 3\n",
      "20:42:46 INFO:Complete items 3000 in worker_id 2\n",
      "20:42:47 INFO:Complete items 3000 in worker_id 8\n",
      "20:42:47 INFO:Complete items 3000 in worker_id 5\n",
      "20:42:47 INFO:Complete items 3000 in worker_id 1\n",
      "20:42:48 INFO:Complete items 3000 in worker_id 4\n",
      "20:42:48 INFO:Complete items 3000 in worker_id 9\n",
      "20:42:49 INFO:Complete items 3000 in worker_id 6\n",
      "20:42:51 INFO:Complete items 3000 in worker_id 0\n",
      "20:42:52 INFO:Complete items 3000 in worker_id 7\n",
      "20:42:55 INFO:Complete items 4000 in worker_id 8\n",
      "20:42:56 INFO:Complete items 4000 in worker_id 2\n",
      "20:42:56 INFO:Complete items 4000 in worker_id 1\n",
      "20:42:56 INFO:Complete items 4000 in worker_id 5\n",
      "20:42:57 INFO:Complete items 4000 in worker_id 3\n",
      "20:42:57 INFO:Complete items 4000 in worker_id 4\n",
      "20:43:00 INFO:Complete items 4000 in worker_id 6\n",
      "20:43:00 INFO:Complete items 4000 in worker_id 9\n",
      "20:43:01 INFO:Complete items 4000 in worker_id 0\n",
      "20:43:02 INFO:Complete items 4000 in worker_id 7\n",
      "20:43:04 INFO:Complete items 5000 in worker_id 8\n",
      "20:43:05 INFO:Complete items 5000 in worker_id 2\n",
      "20:43:05 INFO:Complete items 5000 in worker_id 1\n",
      "20:43:07 INFO:Complete items 5000 in worker_id 4\n",
      "20:43:08 INFO:Complete items 5000 in worker_id 5\n",
      "20:43:08 INFO:Complete items 5000 in worker_id 3\n",
      "20:43:10 INFO:Complete items 5000 in worker_id 6\n",
      "20:43:12 INFO:Complete items 5000 in worker_id 0\n",
      "20:43:13 INFO:Complete items 5000 in worker_id 9\n",
      "20:43:13 INFO:Complete items 5000 in worker_id 7\n",
      "20:43:14 INFO:Complete items 6000 in worker_id 8\n",
      "20:43:14 INFO:Complete items 6000 in worker_id 2\n",
      "20:43:16 INFO:Complete items 6000 in worker_id 4\n",
      "20:43:16 INFO:Complete items 6000 in worker_id 1\n",
      "20:43:17 INFO:Complete items 6000 in worker_id 3\n",
      "20:43:19 INFO:Complete items 6000 in worker_id 5\n",
      "20:43:19 INFO:Complete items 6000 in worker_id 6\n",
      "20:43:22 INFO:Complete items 6000 in worker_id 0\n",
      "20:43:22 INFO:Complete items 6000 in worker_id 7\n",
      "20:43:23 INFO:Complete items 6000 in worker_id 9\n",
      "20:43:24 INFO:Complete items 7000 in worker_id 8\n",
      "20:43:24 INFO:Complete items 777 in worker_id 8\n",
      "20:43:25 INFO:Complete items 7000 in worker_id 2\n",
      "20:43:26 INFO:Complete items 777 in worker_id 2\n",
      "20:43:27 INFO:Complete items 7000 in worker_id 4\n",
      "20:43:27 INFO:Complete items 777 in worker_id 4\n",
      "20:43:27 INFO:Complete items 7000 in worker_id 1\n",
      "20:43:28 INFO:Complete items 7000 in worker_id 6\n",
      "20:43:28 INFO:Complete items 7000 in worker_id 5\n",
      "20:43:28 INFO:Complete items 7000 in worker_id 3\n",
      "20:43:28 INFO:Complete items 777 in worker_id 1\n",
      "20:43:28 INFO:Complete items 777 in worker_id 6\n",
      "20:43:28 INFO:Complete items 777 in worker_id 5\n",
      "20:43:28 INFO:Complete items 777 in worker_id 3\n",
      "20:43:30 INFO:Complete items 7000 in worker_id 7\n",
      "20:43:30 INFO:Complete items 777 in worker_id 7\n",
      "20:43:30 INFO:Complete items 7000 in worker_id 0\n",
      "20:43:30 INFO:Complete items 777 in worker_id 0\n",
      "20:43:33 INFO:Complete items 7000 in worker_id 9\n",
      "20:43:34 INFO:Complete items 777 in worker_id 9\n"
     ]
    },
    {
     "name": "stdout",
     "output_type": "stream",
     "text": [
      "CPU times: user 1.05 s, sys: 751 ms, total: 1.8 s\n",
      "Wall time: 1min 11s\n"
     ]
    }
   ],
   "source": [
    "%%time\n",
    "\n",
    "train_docs = list(load_csv_multiprocess('kaggle_train_data_tab.csv.gz', calc_features))"
   ]
  },
  {
   "cell_type": "code",
   "execution_count": 59,
   "metadata": {
    "colab": {
     "base_uri": "https://localhost:8080/",
     "height": 1000
    },
    "id": "m1zMUfihq6xK",
    "outputId": "980fdc5f-acfa-4eb3-acfe-46acb849adda",
    "scrolled": false
   },
   "outputs": [
    {
     "name": "stderr",
     "output_type": "stream",
     "text": [
      "20:56:46 INFO:Complete items 0 in worker_id 0\n",
      "20:56:46 INFO:Complete items 0 in worker_id 1\n",
      "20:56:46 INFO:Complete items 0 in worker_id 2\n",
      "20:56:46 INFO:Complete items 0 in worker_id 3\n",
      "20:56:46 INFO:Complete items 0 in worker_id 4\n",
      "20:56:46 INFO:Complete items 0 in worker_id 5\n",
      "20:56:46 INFO:Complete items 0 in worker_id 6\n",
      "20:56:46 INFO:Complete items 0 in worker_id 7\n",
      "20:56:46 INFO:Complete items 0 in worker_id 8\n",
      "20:56:46 INFO:Complete items 0 in worker_id 9\n",
      "20:56:56 INFO:Complete items 1000 in worker_id 2\n",
      "20:56:56 INFO:Complete items 1000 in worker_id 1\n",
      "20:56:57 INFO:Complete items 1000 in worker_id 8\n",
      "20:56:57 INFO:Complete items 1000 in worker_id 9\n",
      "20:56:57 INFO:Complete items 1000 in worker_id 0\n",
      "20:56:58 INFO:Complete items 1000 in worker_id 7\n",
      "20:56:59 INFO:Complete items 1000 in worker_id 4\n",
      "20:56:59 INFO:Complete items 1000 in worker_id 3\n",
      "20:56:59 INFO:Complete items 1000 in worker_id 5\n",
      "20:57:04 INFO:Complete items 1000 in worker_id 6\n",
      "20:57:06 INFO:Complete items 2000 in worker_id 0\n",
      "20:57:06 INFO:Complete items 2000 in worker_id 2\n",
      "20:57:07 INFO:Complete items 2000 in worker_id 8\n",
      "20:57:07 INFO:Complete items 2000 in worker_id 7\n",
      "20:57:08 INFO:Complete items 2000 in worker_id 9\n",
      "20:57:08 INFO:Complete items 2000 in worker_id 3\n",
      "20:57:09 INFO:Complete items 2000 in worker_id 5\n",
      "20:57:09 INFO:Complete items 2000 in worker_id 4\n",
      "20:57:12 INFO:Complete items 2000 in worker_id 1\n",
      "20:57:15 INFO:Complete items 2000 in worker_id 6\n",
      "20:57:16 INFO:Complete items 3000 in worker_id 2\n",
      "20:57:16 INFO:Complete items 3000 in worker_id 7\n",
      "20:57:16 INFO:Complete items 3000 in worker_id 0\n",
      "20:57:16 INFO:Complete items 3000 in worker_id 9\n",
      "20:57:18 INFO:Complete items 3000 in worker_id 5\n",
      "20:57:18 INFO:Complete items 3000 in worker_id 8\n",
      "20:57:20 INFO:Complete items 3000 in worker_id 4\n",
      "20:57:20 INFO:Complete items 3000 in worker_id 3\n",
      "20:57:24 INFO:Complete items 4000 in worker_id 2\n",
      "20:57:24 INFO:Complete items 3000 in worker_id 1\n",
      "20:57:25 INFO:Complete items 4000 in worker_id 7\n",
      "20:57:25 INFO:Complete items 4000 in worker_id 9\n",
      "20:57:26 INFO:Complete items 4000 in worker_id 0\n",
      "20:57:26 INFO:Complete items 3000 in worker_id 6\n",
      "20:57:27 INFO:Complete items 4000 in worker_id 8\n",
      "20:57:28 INFO:Complete items 4000 in worker_id 5\n",
      "20:57:30 INFO:Complete items 4000 in worker_id 4\n",
      "20:57:32 INFO:Complete items 4000 in worker_id 3\n",
      "20:57:35 INFO:Complete items 5000 in worker_id 2\n",
      "20:57:35 INFO:Complete items 5000 in worker_id 0\n",
      "20:57:35 INFO:Complete items 5000 in worker_id 7\n",
      "20:57:37 INFO:Complete items 4000 in worker_id 1\n",
      "20:57:38 INFO:Complete items 5000 in worker_id 8\n",
      "20:57:38 INFO:Complete items 5000 in worker_id 9\n",
      "20:57:40 INFO:Complete items 4000 in worker_id 6\n",
      "20:57:41 INFO:Complete items 5000 in worker_id 4\n",
      "20:57:41 INFO:Complete items 5000 in worker_id 5\n",
      "20:57:42 INFO:Complete items 5000 in worker_id 3\n",
      "20:57:47 INFO:Complete items 6000 in worker_id 0\n",
      "20:57:47 INFO:Complete items 6000 in worker_id 2\n",
      "20:57:47 INFO:Complete items 5000 in worker_id 1\n",
      "20:57:49 INFO:Complete items 6000 in worker_id 7\n",
      "20:57:50 INFO:Complete items 6000 in worker_id 8\n",
      "20:57:51 INFO:Complete items 6000 in worker_id 9\n",
      "20:57:51 INFO:Complete items 5000 in worker_id 6\n",
      "20:57:53 INFO:Complete items 6000 in worker_id 4\n",
      "20:57:55 INFO:Complete items 6000 in worker_id 3\n",
      "20:57:55 INFO:Complete items 6000 in worker_id 5\n",
      "20:57:57 INFO:Complete items 7000 in worker_id 0\n",
      "20:57:59 INFO:Complete items 7000 in worker_id 7\n",
      "20:58:00 INFO:Complete items 7000 in worker_id 2\n",
      "20:58:01 INFO:Complete items 7000 in worker_id 8\n",
      "20:58:02 INFO:Complete items 7000 in worker_id 9\n",
      "20:58:02 INFO:Complete items 6000 in worker_id 6\n",
      "20:58:07 INFO:Complete items 7000 in worker_id 4\n",
      "20:58:07 INFO:Complete items 7000 in worker_id 5\n",
      "20:58:07 INFO:Complete items 6000 in worker_id 1\n",
      "20:58:07 INFO:Complete items 7000 in worker_id 3\n",
      "20:58:08 INFO:Complete items 8000 in worker_id 0\n",
      "20:58:11 INFO:Complete items 8000 in worker_id 2\n",
      "20:58:12 INFO:Complete items 8000 in worker_id 7\n",
      "20:58:12 INFO:Complete items 8000 in worker_id 8\n",
      "20:58:14 INFO:Complete items 7000 in worker_id 6\n",
      "20:58:17 INFO:Complete items 8000 in worker_id 9\n",
      "20:58:18 INFO:Complete items 8000 in worker_id 5\n",
      "20:58:19 INFO:Complete items 7000 in worker_id 1\n",
      "20:58:19 INFO:Complete items 8000 in worker_id 4\n",
      "20:58:19 INFO:Complete items 9000 in worker_id 0\n",
      "20:58:20 INFO:Complete items 8000 in worker_id 3\n",
      "20:58:22 INFO:Complete items 9000 in worker_id 2\n",
      "20:58:22 INFO:Complete items 9000 in worker_id 7\n",
      "20:58:24 INFO:Complete items 9000 in worker_id 8\n",
      "20:58:27 INFO:Complete items 8000 in worker_id 6\n",
      "20:58:27 INFO:Complete items 9000 in worker_id 9\n",
      "20:58:28 INFO:Complete items 9000 in worker_id 5\n",
      "20:58:31 INFO:Complete items 8000 in worker_id 1\n",
      "20:58:31 INFO:Complete items 9000 in worker_id 3\n",
      "20:58:32 INFO:Complete items 10000 in worker_id 0\n",
      "20:58:35 INFO:Complete items 9000 in worker_id 4\n",
      "20:58:35 INFO:Complete items 10000 in worker_id 2\n",
      "20:58:36 INFO:Complete items 9000 in worker_id 6\n",
      "20:58:37 INFO:Complete items 10000 in worker_id 8\n",
      "20:58:39 INFO:Complete items 10000 in worker_id 7\n",
      "20:58:41 INFO:Complete items 10000 in worker_id 9\n",
      "20:58:42 INFO:Complete items 9000 in worker_id 1\n",
      "20:58:43 INFO:Complete items 10000 in worker_id 5\n",
      "20:58:43 INFO:Complete items 11000 in worker_id 0\n",
      "20:58:44 INFO:Complete items 10000 in worker_id 3\n",
      "20:58:46 INFO:Complete items 10000 in worker_id 4\n",
      "20:58:47 INFO:Complete items 11000 in worker_id 8\n",
      "20:58:48 INFO:Complete items 11000 in worker_id 2\n",
      "20:58:50 INFO:Complete items 11000 in worker_id 7\n",
      "20:58:51 INFO:Complete items 10000 in worker_id 6\n",
      "20:58:52 INFO:Complete items 11000 in worker_id 9\n",
      "20:58:53 INFO:Complete items 12000 in worker_id 0\n",
      "20:58:53 INFO:Complete items 11000 in worker_id 5\n",
      "20:58:54 INFO:Complete items 11000 in worker_id 3\n",
      "20:58:58 INFO:Complete items 12000 in worker_id 2\n",
      "20:59:00 INFO:Complete items 12000 in worker_id 8\n",
      "20:59:00 INFO:Complete items 12000 in worker_id 7\n",
      "20:59:00 INFO:Complete items 11000 in worker_id 4\n",
      "20:59:02 INFO:Complete items 13000 in worker_id 0\n",
      "20:59:03 INFO:Complete items 11000 in worker_id 6\n",
      "20:59:03 INFO:Complete items 10000 in worker_id 1\n",
      "20:59:04 INFO:Complete items 12000 in worker_id 3\n",
      "20:59:04 INFO:Complete items 12000 in worker_id 9\n",
      "20:59:06 INFO:Complete items 12000 in worker_id 5\n",
      "20:59:08 INFO:Complete items 13000 in worker_id 2\n",
      "20:59:09 INFO:Complete items 13000 in worker_id 8\n",
      "20:59:10 INFO:Complete items 13000 in worker_id 7\n",
      "20:59:11 INFO:Complete items 12000 in worker_id 4\n",
      "20:59:12 INFO:Complete items 14000 in worker_id 0\n",
      "20:59:13 INFO:Complete items 13000 in worker_id 3\n",
      "20:59:13 INFO:Complete items 11000 in worker_id 1\n",
      "20:59:13 INFO:Complete items 13000 in worker_id 9\n",
      "20:59:15 INFO:Complete items 13000 in worker_id 5\n",
      "20:59:19 INFO:Complete items 12000 in worker_id 6\n",
      "20:59:20 INFO:Complete items 14000 in worker_id 2\n",
      "20:59:21 INFO:Complete items 14000 in worker_id 7\n",
      "20:59:22 INFO:Complete items 13000 in worker_id 4\n",
      "20:59:23 INFO:Complete items 12000 in worker_id 1\n",
      "20:59:23 INFO:Complete items 14000 in worker_id 8\n",
      "20:59:24 INFO:Complete items 14000 in worker_id 3\n",
      "20:59:24 INFO:Complete items 14000 in worker_id 9\n",
      "20:59:25 INFO:Complete items 15000 in worker_id 0\n",
      "20:59:28 INFO:Complete items 14000 in worker_id 5\n",
      "20:59:32 INFO:Complete items 13000 in worker_id 6\n",
      "20:59:33 INFO:Complete items 15000 in worker_id 7\n",
      "20:59:33 INFO:Complete items 13000 in worker_id 1\n",
      "20:59:34 INFO:Complete items 15000 in worker_id 2\n",
      "20:59:35 INFO:Complete items 14000 in worker_id 4\n",
      "20:59:36 INFO:Complete items 15000 in worker_id 3\n",
      "20:59:36 INFO:Complete items 15000 in worker_id 8\n",
      "20:59:36 INFO:Complete items 15000 in worker_id 9\n",
      "20:59:37 INFO:Complete items 16000 in worker_id 0\n",
      "20:59:37 INFO:Complete items 777 in worker_id 0\n",
      "20:59:40 INFO:Complete items 15000 in worker_id 5\n",
      "20:59:43 INFO:Complete items 14000 in worker_id 6\n",
      "20:59:44 INFO:Complete items 14000 in worker_id 1\n",
      "20:59:44 INFO:Complete items 16000 in worker_id 7\n",
      "20:59:44 INFO:Complete items 777 in worker_id 7\n",
      "20:59:45 INFO:Complete items 16000 in worker_id 2\n",
      "20:59:46 INFO:Complete items 777 in worker_id 2\n",
      "20:59:46 INFO:Complete items 16000 in worker_id 8\n",
      "20:59:47 INFO:Complete items 15000 in worker_id 4\n",
      "20:59:47 INFO:Complete items 777 in worker_id 8\n",
      "20:59:48 INFO:Complete items 16000 in worker_id 3\n"
     ]
    },
    {
     "name": "stderr",
     "output_type": "stream",
     "text": [
      "20:59:48 INFO:Complete items 16000 in worker_id 9\n",
      "20:59:49 INFO:Complete items 777 in worker_id 3\n",
      "20:59:49 INFO:Complete items 777 in worker_id 9\n",
      "20:59:50 INFO:Complete items 16000 in worker_id 5\n",
      "20:59:51 INFO:Complete items 777 in worker_id 5\n",
      "20:59:52 INFO:Complete items 15000 in worker_id 1\n",
      "20:59:52 INFO:Complete items 15000 in worker_id 6\n",
      "20:59:55 INFO:Complete items 16000 in worker_id 4\n",
      "20:59:55 INFO:Complete items 777 in worker_id 4\n",
      "20:59:59 INFO:Complete items 16000 in worker_id 1\n",
      "20:59:59 INFO:Complete items 777 in worker_id 1\n",
      "21:00:01 INFO:Complete items 16000 in worker_id 6\n",
      "21:00:01 INFO:Complete items 777 in worker_id 6\n"
     ]
    },
    {
     "name": "stdout",
     "output_type": "stream",
     "text": [
      "CPU times: user 3.03 s, sys: 2.05 s, total: 5.08 s\n",
      "Wall time: 3min 15s\n"
     ]
    }
   ],
   "source": [
    "%%time\n",
    "\n",
    "test_docs = list(load_csv_multiprocess('kaggle_test_data_tab.csv.gz', calc_features))"
   ]
  },
  {
   "cell_type": "code",
   "execution_count": 30,
   "metadata": {
    "id": "qcWlk9suq6wr"
   },
   "outputs": [],
   "source": [
    "texts_target = [int(doc.is_spam) for doc in train_docs if doc.features != None]"
   ]
  },
  {
   "cell_type": "code",
   "execution_count": 31,
   "metadata": {
    "id": "TmI7GK6Wq6wu"
   },
   "outputs": [],
   "source": [
    "from sklearn.linear_model import LogisticRegression\n",
    "import numpy as np\n",
    "from sklearn.feature_extraction.text import TfidfVectorizer\n",
    "from nltk.corpus import stopwords\n",
    "import xgboost as xgb\n",
    "from sklearn.svm import SVR"
   ]
  },
  {
   "cell_type": "code",
   "execution_count": 32,
   "metadata": {
    "colab": {
     "base_uri": "https://localhost:8080/",
     "height": 67
    },
    "id": "EmNuxNZpq6wx",
    "outputId": "64ae4c28-bd97-4597-bb37-8f528e3c2f91"
   },
   "outputs": [
    {
     "name": "stderr",
     "output_type": "stream",
     "text": [
      "[nltk_data] Downloading package stopwords to\n",
      "[nltk_data]     /home/evgenij_kosarev/nltk_data...\n",
      "[nltk_data]   Package stopwords is already up-to-date!\n"
     ]
    },
    {
     "data": {
      "text/plain": [
       "True"
      ]
     },
     "execution_count": 32,
     "metadata": {},
     "output_type": "execute_result"
    }
   ],
   "source": [
    "import nltk\n",
    "nltk.download('stopwords')\n",
    "stop_words = stopwords.words('russian')\n",
    "stop_words.extend([u'в',u'так', u'к', u'—', u'с', u'быть', u'вот', u'это', u'как',  u'к', u'на'\\\n",
    "                           u'ж', u'ли', u'а', u'что', ])\n",
    "\n",
    "def prep(text):\n",
    "    regex = re.compile(u'[^a-zA-Zа-яА-Я]')\n",
    "    return regex.sub(u' ', text)"
   ]
  },
  {
   "cell_type": "code",
   "execution_count": 36,
   "metadata": {
    "id": "E58MCt8gq6w3",
    "scrolled": true
   },
   "outputs": [],
   "source": [
    "prep_text = [prep(doc.features[6].lower()) for doc in train_docs]\n",
    "test_prep = [prep(doc.features[6].lower()) for doc in test_docs]"
   ]
  },
  {
   "cell_type": "code",
   "execution_count": 37,
   "metadata": {
    "id": "db3PImfMq6w5"
   },
   "outputs": [],
   "source": [
    "vectorizer_prep = TfidfVectorizer(ngram_range=(1,3), min_df=5, stop_words=stop_words)"
   ]
  },
  {
   "cell_type": "code",
   "execution_count": 120,
   "metadata": {
    "colab": {
     "base_uri": "https://localhost:8080/",
     "height": 252
    },
    "id": "Kg9CP4v0q6w7",
    "outputId": "6b18783d-1067-4e5a-a18b-78aaf1f8cf72"
   },
   "outputs": [
    {
     "ename": "KeyboardInterrupt",
     "evalue": "",
     "output_type": "error",
     "traceback": [
      "\u001b[0;31m---------------------------------------------------------------------------\u001b[0m",
      "\u001b[0;31mKeyboardInterrupt\u001b[0m                         Traceback (most recent call last)",
      "\u001b[0;32m<timed eval>\u001b[0m in \u001b[0;36m<module>\u001b[0;34m\u001b[0m\n",
      "\u001b[0;32m~/miniconda3/lib/python3.7/site-packages/sklearn/feature_extraction/text.py\u001b[0m in \u001b[0;36mfit\u001b[0;34m(self, raw_documents, y)\u001b[0m\n\u001b[1;32m   1629\u001b[0m         \"\"\"\n\u001b[1;32m   1630\u001b[0m         \u001b[0mself\u001b[0m\u001b[0;34m.\u001b[0m\u001b[0m_check_params\u001b[0m\u001b[0;34m(\u001b[0m\u001b[0;34m)\u001b[0m\u001b[0;34m\u001b[0m\u001b[0;34m\u001b[0m\u001b[0m\n\u001b[0;32m-> 1631\u001b[0;31m         \u001b[0mX\u001b[0m \u001b[0;34m=\u001b[0m \u001b[0msuper\u001b[0m\u001b[0;34m(\u001b[0m\u001b[0;34m)\u001b[0m\u001b[0;34m.\u001b[0m\u001b[0mfit_transform\u001b[0m\u001b[0;34m(\u001b[0m\u001b[0mraw_documents\u001b[0m\u001b[0;34m)\u001b[0m\u001b[0;34m\u001b[0m\u001b[0;34m\u001b[0m\u001b[0m\n\u001b[0m\u001b[1;32m   1632\u001b[0m         \u001b[0mself\u001b[0m\u001b[0;34m.\u001b[0m\u001b[0m_tfidf\u001b[0m\u001b[0;34m.\u001b[0m\u001b[0mfit\u001b[0m\u001b[0;34m(\u001b[0m\u001b[0mX\u001b[0m\u001b[0;34m)\u001b[0m\u001b[0;34m\u001b[0m\u001b[0;34m\u001b[0m\u001b[0m\n\u001b[1;32m   1633\u001b[0m         \u001b[0;32mreturn\u001b[0m \u001b[0mself\u001b[0m\u001b[0;34m\u001b[0m\u001b[0;34m\u001b[0m\u001b[0m\n",
      "\u001b[0;32m~/miniconda3/lib/python3.7/site-packages/sklearn/feature_extraction/text.py\u001b[0m in \u001b[0;36mfit_transform\u001b[0;34m(self, raw_documents, y)\u001b[0m\n\u001b[1;32m   1056\u001b[0m \u001b[0;34m\u001b[0m\u001b[0m\n\u001b[1;32m   1057\u001b[0m         vocabulary, X = self._count_vocab(raw_documents,\n\u001b[0;32m-> 1058\u001b[0;31m                                           self.fixed_vocabulary_)\n\u001b[0m\u001b[1;32m   1059\u001b[0m \u001b[0;34m\u001b[0m\u001b[0m\n\u001b[1;32m   1060\u001b[0m         \u001b[0;32mif\u001b[0m \u001b[0mself\u001b[0m\u001b[0;34m.\u001b[0m\u001b[0mbinary\u001b[0m\u001b[0;34m:\u001b[0m\u001b[0;34m\u001b[0m\u001b[0;34m\u001b[0m\u001b[0m\n",
      "\u001b[0;32m~/miniconda3/lib/python3.7/site-packages/sklearn/feature_extraction/text.py\u001b[0m in \u001b[0;36m_count_vocab\u001b[0;34m(self, raw_documents, fixed_vocab)\u001b[0m\n\u001b[1;32m    968\u001b[0m         \u001b[0;32mfor\u001b[0m \u001b[0mdoc\u001b[0m \u001b[0;32min\u001b[0m \u001b[0mraw_documents\u001b[0m\u001b[0;34m:\u001b[0m\u001b[0;34m\u001b[0m\u001b[0;34m\u001b[0m\u001b[0m\n\u001b[1;32m    969\u001b[0m             \u001b[0mfeature_counter\u001b[0m \u001b[0;34m=\u001b[0m \u001b[0;34m{\u001b[0m\u001b[0;34m}\u001b[0m\u001b[0;34m\u001b[0m\u001b[0;34m\u001b[0m\u001b[0m\n\u001b[0;32m--> 970\u001b[0;31m             \u001b[0;32mfor\u001b[0m \u001b[0mfeature\u001b[0m \u001b[0;32min\u001b[0m \u001b[0manalyze\u001b[0m\u001b[0;34m(\u001b[0m\u001b[0mdoc\u001b[0m\u001b[0;34m)\u001b[0m\u001b[0;34m:\u001b[0m\u001b[0;34m\u001b[0m\u001b[0;34m\u001b[0m\u001b[0m\n\u001b[0m\u001b[1;32m    971\u001b[0m                 \u001b[0;32mtry\u001b[0m\u001b[0;34m:\u001b[0m\u001b[0;34m\u001b[0m\u001b[0;34m\u001b[0m\u001b[0m\n\u001b[1;32m    972\u001b[0m                     \u001b[0mfeature_idx\u001b[0m \u001b[0;34m=\u001b[0m \u001b[0mvocabulary\u001b[0m\u001b[0;34m[\u001b[0m\u001b[0mfeature\u001b[0m\u001b[0;34m]\u001b[0m\u001b[0;34m\u001b[0m\u001b[0;34m\u001b[0m\u001b[0m\n",
      "\u001b[0;32m~/miniconda3/lib/python3.7/site-packages/sklearn/feature_extraction/text.py\u001b[0m in \u001b[0;36m<lambda>\u001b[0;34m(doc)\u001b[0m\n\u001b[1;32m    350\u001b[0m                                                tokenize)\n\u001b[1;32m    351\u001b[0m             return lambda doc: self._word_ngrams(\n\u001b[0;32m--> 352\u001b[0;31m                 tokenize(preprocess(self.decode(doc))), stop_words)\n\u001b[0m\u001b[1;32m    353\u001b[0m \u001b[0;34m\u001b[0m\u001b[0m\n\u001b[1;32m    354\u001b[0m         \u001b[0;32melse\u001b[0m\u001b[0;34m:\u001b[0m\u001b[0;34m\u001b[0m\u001b[0;34m\u001b[0m\u001b[0m\n",
      "\u001b[0;32m~/miniconda3/lib/python3.7/site-packages/sklearn/feature_extraction/text.py\u001b[0m in \u001b[0;36m_word_ngrams\u001b[0;34m(self, tokens, stop_words)\u001b[0m\n\u001b[1;32m    173\u001b[0m                            min(max_n + 1, n_original_tokens + 1)):\n\u001b[1;32m    174\u001b[0m                 \u001b[0;32mfor\u001b[0m \u001b[0mi\u001b[0m \u001b[0;32min\u001b[0m \u001b[0mrange\u001b[0m\u001b[0;34m(\u001b[0m\u001b[0mn_original_tokens\u001b[0m \u001b[0;34m-\u001b[0m \u001b[0mn\u001b[0m \u001b[0;34m+\u001b[0m \u001b[0;36m1\u001b[0m\u001b[0;34m)\u001b[0m\u001b[0;34m:\u001b[0m\u001b[0;34m\u001b[0m\u001b[0;34m\u001b[0m\u001b[0m\n\u001b[0;32m--> 175\u001b[0;31m                     \u001b[0mtokens_append\u001b[0m\u001b[0;34m(\u001b[0m\u001b[0mspace_join\u001b[0m\u001b[0;34m(\u001b[0m\u001b[0moriginal_tokens\u001b[0m\u001b[0;34m[\u001b[0m\u001b[0mi\u001b[0m\u001b[0;34m:\u001b[0m \u001b[0mi\u001b[0m \u001b[0;34m+\u001b[0m \u001b[0mn\u001b[0m\u001b[0;34m]\u001b[0m\u001b[0;34m)\u001b[0m\u001b[0;34m)\u001b[0m\u001b[0;34m\u001b[0m\u001b[0;34m\u001b[0m\u001b[0m\n\u001b[0m\u001b[1;32m    176\u001b[0m \u001b[0;34m\u001b[0m\u001b[0m\n\u001b[1;32m    177\u001b[0m         \u001b[0;32mreturn\u001b[0m \u001b[0mtokens\u001b[0m\u001b[0;34m\u001b[0m\u001b[0;34m\u001b[0m\u001b[0m\n",
      "\u001b[0;31mKeyboardInterrupt\u001b[0m: "
     ]
    }
   ],
   "source": [
    "%%time \n",
    "vectorizer_prep.fit(prep_text)"
   ]
  },
  {
   "cell_type": "code",
   "execution_count": 42,
   "metadata": {
    "colab": {
     "base_uri": "https://localhost:8080/",
     "height": 50
    },
    "id": "A8b9WRpaq6w9",
    "outputId": "000498a8-8c75-4176-ed28-2a257f2987ec"
   },
   "outputs": [
    {
     "name": "stdout",
     "output_type": "stream",
     "text": [
      "CPU times: user 2min, sys: 233 ms, total: 2min 1s\n",
      "Wall time: 2min 1s\n"
     ]
    }
   ],
   "source": [
    "%%time \n",
    "X_vec_prep = vectorizer_prep.transform(prep_text)"
   ]
  },
  {
   "cell_type": "code",
   "execution_count": 51,
   "metadata": {
    "id": "6d0IrKh2Csw9"
   },
   "outputs": [],
   "source": [
    "gb_prep = xgb.XGBClassifier(n_jobs=-1, max_depth=5, n_estimators=450)"
   ]
  },
  {
   "cell_type": "code",
   "execution_count": 52,
   "metadata": {
    "id": "7hlbUZr5q6xB"
   },
   "outputs": [],
   "source": [
    "lr_prep = LogisticRegression(C=1000, n_jobs=-1)"
   ]
  },
  {
   "cell_type": "code",
   "execution_count": 53,
   "metadata": {
    "id": "rfGOkl2C7Hgd"
   },
   "outputs": [],
   "source": [
    "svr_prep = SVR()"
   ]
  },
  {
   "cell_type": "code",
   "execution_count": 54,
   "metadata": {
    "colab": {
     "base_uri": "https://localhost:8080/",
     "height": 84
    },
    "id": "cdb00_Pr8PDU",
    "outputId": "e16d2599-9b17-46fc-a80c-74923b5e6fc5"
   },
   "outputs": [
    {
     "name": "stderr",
     "output_type": "stream",
     "text": [
      "/home/evgenij_kosarev/miniconda3/lib/python3.7/site-packages/sklearn/svm/base.py:193: FutureWarning: The default value of gamma will change from 'auto' to 'scale' in version 0.22 to account better for unscaled features. Set gamma explicitly to 'auto' or 'scale' to avoid this warning.\n",
      "  \"avoid this warning.\", FutureWarning)\n"
     ]
    },
    {
     "name": "stdout",
     "output_type": "stream",
     "text": [
      "CPU times: user 1min 42s, sys: 57.7 ms, total: 1min 42s\n",
      "Wall time: 1min 42s\n"
     ]
    },
    {
     "data": {
      "text/plain": [
       "SVR(C=1.0, cache_size=200, coef0=0.0, degree=3, epsilon=0.1,\n",
       "    gamma='auto_deprecated', kernel='rbf', max_iter=-1, shrinking=True,\n",
       "    tol=0.001, verbose=False)"
      ]
     },
     "execution_count": 54,
     "metadata": {},
     "output_type": "execute_result"
    }
   ],
   "source": [
    "%time svr_prep.fit(X_vec_prep, texts_target)"
   ]
  },
  {
   "cell_type": "code",
   "execution_count": 55,
   "metadata": {
    "colab": {
     "base_uri": "https://localhost:8080/",
     "height": 168
    },
    "id": "PzcdqHv7q6xD",
    "outputId": "e5bda206-759a-440d-d5fe-63f9fff05fa6"
   },
   "outputs": [
    {
     "name": "stdout",
     "output_type": "stream",
     "text": [
      "CPU times: user 2min 36s, sys: 27.8 ms, total: 2min 36s\n",
      "Wall time: 2min 36s\n"
     ]
    },
    {
     "data": {
      "text/plain": [
       "XGBClassifier(base_score=0.5, booster=None, colsample_bylevel=1,\n",
       "              colsample_bynode=1, colsample_bytree=1, gamma=0, gpu_id=-1,\n",
       "              importance_type='gain', interaction_constraints=None,\n",
       "              learning_rate=0.300000012, max_delta_step=0, max_depth=5,\n",
       "              min_child_weight=1, missing=nan, monotone_constraints=None,\n",
       "              n_estimators=450, n_jobs=-1, num_parallel_tree=1,\n",
       "              objective='binary:logistic', random_state=0, reg_alpha=0,\n",
       "              reg_lambda=1, scale_pos_weight=1, subsample=1, tree_method=None,\n",
       "              validate_parameters=False, verbosity=None)"
      ]
     },
     "execution_count": 55,
     "metadata": {},
     "output_type": "execute_result"
    }
   ],
   "source": [
    "%time gb_prep.fit(X_vec_prep, texts_target)"
   ]
  },
  {
   "cell_type": "code",
   "execution_count": 56,
   "metadata": {
    "colab": {
     "base_uri": "https://localhost:8080/",
     "height": 269
    },
    "id": "m4RvpdFHq6xF",
    "outputId": "a4763e7a-157b-419e-cd68-a28cd45751ef"
   },
   "outputs": [
    {
     "name": "stderr",
     "output_type": "stream",
     "text": [
      "/home/evgenij_kosarev/miniconda3/lib/python3.7/site-packages/sklearn/linear_model/logistic.py:432: FutureWarning: Default solver will be changed to 'lbfgs' in 0.22. Specify a solver to silence this warning.\n",
      "  FutureWarning)\n",
      "/home/evgenij_kosarev/miniconda3/lib/python3.7/site-packages/sklearn/linear_model/logistic.py:1544: UserWarning: 'n_jobs' > 1 does not have any effect when 'solver' is set to 'liblinear'. Got 'n_jobs' = 12.\n",
      "  \" = {}.\".format(effective_n_jobs(self.n_jobs)))\n"
     ]
    },
    {
     "name": "stdout",
     "output_type": "stream",
     "text": [
      "CPU times: user 2.81 s, sys: 58 µs, total: 2.81 s\n",
      "Wall time: 2.81 s\n"
     ]
    },
    {
     "data": {
      "text/plain": [
       "LogisticRegression(C=1000, class_weight=None, dual=False, fit_intercept=True,\n",
       "                   intercept_scaling=1, l1_ratio=None, max_iter=100,\n",
       "                   multi_class='warn', n_jobs=-1, penalty='l2',\n",
       "                   random_state=None, solver='warn', tol=0.0001, verbose=0,\n",
       "                   warm_start=False)"
      ]
     },
     "execution_count": 56,
     "metadata": {},
     "output_type": "execute_result"
    }
   ],
   "source": [
    "%time lr_prep.fit(X_vec_prep, texts_target)"
   ]
  },
  {
   "cell_type": "code",
   "execution_count": 61,
   "metadata": {
    "id": "dtE2xTHPq6xQ"
   },
   "outputs": [],
   "source": [
    "X_test_prep = vectorizer_prep.transform(test_prep)"
   ]
  },
  {
   "cell_type": "code",
   "execution_count": 62,
   "metadata": {
    "id": "7zNR3nEp-4RA"
   },
   "outputs": [],
   "source": [
    "train_gb = gb_prep.predict_proba(X_vec_prep)\n",
    "train_lr = lr_prep.predict_proba(X_vec_prep)\n",
    "train_svr = svr_prep.predict(X_vec_prep)"
   ]
  },
  {
   "cell_type": "code",
   "execution_count": 65,
   "metadata": {
    "id": "9D_hq63Oq6xS"
   },
   "outputs": [],
   "source": [
    "from sklearn.linear_model import LinearRegression\n",
    "import pandas as pd"
   ]
  },
  {
   "cell_type": "code",
   "execution_count": 66,
   "metadata": {
    "id": "Kffae-4e_lfR"
   },
   "outputs": [],
   "source": [
    "X_final = {'1': train_gb[:, 0], \n",
    "           '2': train_lr[:, 0], \n",
    "           '3': train_svr\n",
    "}\n",
    "X_final = pd.DataFrame(X_final)"
   ]
  },
  {
   "cell_type": "code",
   "execution_count": 67,
   "metadata": {
    "colab": {
     "base_uri": "https://localhost:8080/",
     "height": 34
    },
    "id": "8APsFnnaCEIW",
    "outputId": "381360db-235d-4fa7-f46a-600cd9adb795"
   },
   "outputs": [
    {
     "data": {
      "text/plain": [
       "(7044, 3)"
      ]
     },
     "execution_count": 67,
     "metadata": {},
     "output_type": "execute_result"
    }
   ],
   "source": [
    "X_final.shape"
   ]
  },
  {
   "cell_type": "code",
   "execution_count": 77,
   "metadata": {
    "id": "XGqOaUWR_lVz"
   },
   "outputs": [],
   "source": [
    "decision_rule = SVR()"
   ]
  },
  {
   "cell_type": "code",
   "execution_count": 78,
   "metadata": {
    "colab": {
     "base_uri": "https://localhost:8080/",
     "height": 34
    },
    "id": "MqbKXbOgBQfr",
    "outputId": "a5458915-4be4-4c9c-f2cd-7959299a8da3"
   },
   "outputs": [
    {
     "name": "stderr",
     "output_type": "stream",
     "text": [
      "/home/evgenij_kosarev/miniconda3/lib/python3.7/site-packages/sklearn/svm/base.py:193: FutureWarning: The default value of gamma will change from 'auto' to 'scale' in version 0.22 to account better for unscaled features. Set gamma explicitly to 'auto' or 'scale' to avoid this warning.\n",
      "  \"avoid this warning.\", FutureWarning)\n"
     ]
    },
    {
     "data": {
      "text/plain": [
       "SVR(C=1.0, cache_size=200, coef0=0.0, degree=3, epsilon=0.1,\n",
       "    gamma='auto_deprecated', kernel='rbf', max_iter=-1, shrinking=True,\n",
       "    tol=0.001, verbose=False)"
      ]
     },
     "execution_count": 78,
     "metadata": {},
     "output_type": "execute_result"
    }
   ],
   "source": [
    "decision_rule.fit(X_final, texts_target)"
   ]
  },
  {
   "cell_type": "code",
   "execution_count": 70,
   "metadata": {
    "id": "o6-YLvU1q6xU"
   },
   "outputs": [],
   "source": [
    "gb_prep_proba = gb_prep.predict_proba(X_test_prep)"
   ]
  },
  {
   "cell_type": "code",
   "execution_count": 71,
   "metadata": {
    "id": "EKwuAID5q6xW"
   },
   "outputs": [],
   "source": [
    "lr_prep_proba = lr_prep.predict_proba(X_test_prep)"
   ]
  },
  {
   "cell_type": "code",
   "execution_count": 72,
   "metadata": {
    "id": "ftWr3hhi7o4O"
   },
   "outputs": [],
   "source": [
    "svr_prep_proba = svr_prep.predict(X_test_prep)"
   ]
  },
  {
   "cell_type": "code",
   "execution_count": 79,
   "metadata": {
    "colab": {
     "base_uri": "https://localhost:8080/",
     "height": 47
    },
    "id": "t7GMkYPM5Ryo",
    "outputId": "7450c445-9254-43cb-bd7d-7b9dc009828a"
   },
   "outputs": [
    {
     "data": {
      "text/html": [
       "<div>\n",
       "<style scoped>\n",
       "    .dataframe tbody tr th:only-of-type {\n",
       "        vertical-align: middle;\n",
       "    }\n",
       "\n",
       "    .dataframe tbody tr th {\n",
       "        vertical-align: top;\n",
       "    }\n",
       "\n",
       "    .dataframe thead th {\n",
       "        text-align: right;\n",
       "    }\n",
       "</style>\n",
       "<table border=\"1\" class=\"dataframe\">\n",
       "  <thead>\n",
       "    <tr style=\"text-align: right;\">\n",
       "      <th></th>\n",
       "      <th>Id</th>\n",
       "      <th>Prediction</th>\n",
       "    </tr>\n",
       "  </thead>\n",
       "  <tbody>\n",
       "  </tbody>\n",
       "</table>\n",
       "</div>"
      ],
      "text/plain": [
       "Empty DataFrame\n",
       "Columns: [Id, Prediction]\n",
       "Index: []"
      ]
     },
     "execution_count": 79,
     "metadata": {},
     "output_type": "execute_result"
    }
   ],
   "source": [
    "a = {'Id':[], 'Prediction' :[]}\n",
    "pd.DataFrame(a)"
   ]
  },
  {
   "cell_type": "code",
   "execution_count": 80,
   "metadata": {
    "id": "5GhB_tbB5R4E"
   },
   "outputs": [],
   "source": [
    "idx = 0\n",
    "for doc in test_docs:\n",
    "    a['Id'].append(doc[0])\n",
    "    tmp = 0\n",
    "    pred = decision_rule.predict(np.array([gb_prep_proba[idx][0], lr_prep_proba[idx][0], svr_prep_proba[idx]]).reshape(1, -1))\n",
    "    if pred > 0.5:\n",
    "        tmp = 1\n",
    "    a['Prediction'].append(tmp)\n",
    "    idx += 1"
   ]
  },
  {
   "cell_type": "code",
   "execution_count": 81,
   "metadata": {},
   "outputs": [
    {
     "data": {
      "text/html": [
       "<div>\n",
       "<style scoped>\n",
       "    .dataframe tbody tr th:only-of-type {\n",
       "        vertical-align: middle;\n",
       "    }\n",
       "\n",
       "    .dataframe tbody tr th {\n",
       "        vertical-align: top;\n",
       "    }\n",
       "\n",
       "    .dataframe thead th {\n",
       "        text-align: right;\n",
       "    }\n",
       "</style>\n",
       "<table border=\"1\" class=\"dataframe\">\n",
       "  <thead>\n",
       "    <tr style=\"text-align: right;\">\n",
       "      <th></th>\n",
       "      <th>Id</th>\n",
       "      <th>Prediction</th>\n",
       "    </tr>\n",
       "  </thead>\n",
       "  <tbody>\n",
       "    <tr>\n",
       "      <th>0</th>\n",
       "      <td>-9219333997282093076</td>\n",
       "      <td>1</td>\n",
       "    </tr>\n",
       "    <tr>\n",
       "      <th>1</th>\n",
       "      <td>-9216796593526314243</td>\n",
       "      <td>1</td>\n",
       "    </tr>\n",
       "    <tr>\n",
       "      <th>2</th>\n",
       "      <td>-9216634615606576667</td>\n",
       "      <td>0</td>\n",
       "    </tr>\n",
       "    <tr>\n",
       "      <th>3</th>\n",
       "      <td>-9215403080479774736</td>\n",
       "      <td>1</td>\n",
       "    </tr>\n",
       "    <tr>\n",
       "      <th>4</th>\n",
       "      <td>-9203015042136285465</td>\n",
       "      <td>0</td>\n",
       "    </tr>\n",
       "    <tr>\n",
       "      <th>...</th>\n",
       "      <td>...</td>\n",
       "      <td>...</td>\n",
       "    </tr>\n",
       "    <tr>\n",
       "      <th>16034</th>\n",
       "      <td>9181885161689002993</td>\n",
       "      <td>1</td>\n",
       "    </tr>\n",
       "    <tr>\n",
       "      <th>16035</th>\n",
       "      <td>9193662184030370712</td>\n",
       "      <td>1</td>\n",
       "    </tr>\n",
       "    <tr>\n",
       "      <th>16036</th>\n",
       "      <td>9200261338537716779</td>\n",
       "      <td>0</td>\n",
       "    </tr>\n",
       "    <tr>\n",
       "      <th>16037</th>\n",
       "      <td>9210495629123185419</td>\n",
       "      <td>1</td>\n",
       "    </tr>\n",
       "    <tr>\n",
       "      <th>16038</th>\n",
       "      <td>9221176609623644378</td>\n",
       "      <td>0</td>\n",
       "    </tr>\n",
       "  </tbody>\n",
       "</table>\n",
       "<p>16039 rows × 2 columns</p>\n",
       "</div>"
      ],
      "text/plain": [
       "                        Id  Prediction\n",
       "0     -9219333997282093076           1\n",
       "1     -9216796593526314243           1\n",
       "2     -9216634615606576667           0\n",
       "3     -9215403080479774736           1\n",
       "4     -9203015042136285465           0\n",
       "...                    ...         ...\n",
       "16034  9181885161689002993           1\n",
       "16035  9193662184030370712           1\n",
       "16036  9200261338537716779           0\n",
       "16037  9210495629123185419           1\n",
       "16038  9221176609623644378           0\n",
       "\n",
       "[16039 rows x 2 columns]"
      ]
     },
     "execution_count": 81,
     "metadata": {},
     "output_type": "execute_result"
    }
   ],
   "source": [
    "pd.DataFrame(a)"
   ]
  },
  {
   "cell_type": "code",
   "execution_count": 82,
   "metadata": {
    "id": "KJlc7hgr5RtI"
   },
   "outputs": [],
   "source": [
    "pd.DataFrame(a).to_csv('my_sumbission_6.csv', index = False)"
   ]
  },
  {
   "cell_type": "markdown",
   "metadata": {
    "id": "Sm8sM2DBFriB"
   },
   "source": [
    "# Графики"
   ]
  },
  {
   "cell_type": "code",
   "execution_count": 114,
   "metadata": {},
   "outputs": [
    {
     "name": "stderr",
     "output_type": "stream",
     "text": [
      "/home/evgenij_kosarev/miniconda3/lib/python3.7/site-packages/ipykernel_launcher.py:4: UserWarning: This figure was using constrained_layout==True, but that is incompatible with subplots_adjust and or tight_layout: setting constrained_layout==False. \n",
      "  after removing the cwd from sys.path.\n",
      "/home/evgenij_kosarev/miniconda3/lib/python3.7/site-packages/ipykernel_launcher.py:10: MatplotlibDeprecationWarning: \n",
      "The 'normed' kwarg was deprecated in Matplotlib 2.1 and will be removed in 3.1. Use 'density' instead.\n",
      "  # Remove the CWD from sys.path while we load stuff.\n",
      "/home/evgenij_kosarev/miniconda3/lib/python3.7/site-packages/ipykernel_launcher.py:11: MatplotlibDeprecationWarning: \n",
      "The 'normed' kwarg was deprecated in Matplotlib 2.1 and will be removed in 3.1. Use 'density' instead.\n",
      "  # This is added back by InteractiveShellApp.init_path()\n"
     ]
    },
    {
     "data": {
      "image/png": "[encoded data removed]",
      "text/plain": [
       "<Figure size 1080x720 with 6 Axes>"
      ]
     },
     "metadata": {
      "needs_background": "light"
     },
     "output_type": "display_data"
    }
   ],
   "source": [
    "names = ['NumWords', \"AvgWordLen\", \"TitleWordsLen\", \"LinksNum\", \"ScriptsAmnt\", \"CompressionLVL\"]\n",
    "\n",
    "fig1, axs = plt.subplots(3, 2, figsize=(15, 10), constrained_layout=True)\n",
    "fig1.tight_layout(pad = 2.)\n",
    "for i in range(6):\n",
    "    plt.subplot(3, 2, i + 1)\n",
    "    is_spam_data = [doc.features[i] for doc in train_docs if doc[1] == True]\n",
    "    not_spam_data = [doc.features[i] for doc in train_docs if doc[1] == False]\n",
    "    bins = range(0,3000,10)\n",
    "    plt.hist(is_spam_data, bins=bins, color='red', normed=True, alpha=0.7, label='spam')\n",
    "    plt.hist(not_spam_data, bins=bins, color='blue', normed=True, alpha=0.7, label='not_spam')\n",
    "    plt.title(names[i])\n",
    "    plt.legend()\n",
    "plt.show()"
   ]
  },
  {
   "cell_type": "code",
   "execution_count": null,
   "metadata": {},
   "outputs": [],
   "source": []
  }
 ],
 "metadata": {
  "anaconda-cloud": {},
  "colab": {
   "name": "AntispamStatsSeminarMultiprocess_Kosarev.ipynb",
   "provenance": [],
   "toc_visible": true
  },
  "kernelspec": {
   "display_name": "Python 3",
   "language": "python",
   "name": "python3"
  },
  "language_info": {
   "codemirror_mode": {
    "name": "ipython",
    "version": 3
   },
   "file_extension": ".py",
   "mimetype": "text/x-python",
   "name": "python",
   "nbconvert_exporter": "python",
   "pygments_lexer": "ipython3",
   "version": "3.7.9"
  }
 },
 "nbformat": 4,
 "nbformat_minor": 1
}
